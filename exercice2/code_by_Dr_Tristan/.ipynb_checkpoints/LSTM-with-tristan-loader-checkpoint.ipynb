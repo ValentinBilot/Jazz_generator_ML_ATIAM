{
 "cells": [
  {
   "cell_type": "code",
   "execution_count": 1,
   "metadata": {},
   "outputs": [],
   "source": [
    "import torch\n",
    "from random import randint\n",
    "from utilities import chordUtil\n",
    "from utilities import dataImport\n",
    "from utilities.chordUtil import *\n",
    "from utilities.dataImport import *\n",
    "from sklearn.model_selection import train_test_split\n",
    "import os\n",
    "import numpy as np\n",
    "import random\n",
    "import sys\n",
    "import torch.nn as nn\n",
    "import time\n",
    "import math\n",
    "import matplotlib.pyplot as plt\n",
    "import matplotlib.ticker as ticker"
   ]
  },
  {
   "cell_type": "code",
   "execution_count": 2,
   "metadata": {},
   "outputs": [],
   "source": [
    "def timeSince(since):\n",
    "    now = time.time()\n",
    "    s = now - since\n",
    "    m = math.floor(s / 60)\n",
    "    s -= m * 60\n",
    "    return '%dm %ds' % (m, s)"
   ]
  },
  {
   "cell_type": "code",
   "execution_count": 3,
   "metadata": {},
   "outputs": [
    {
     "name": "stdout",
     "output_type": "stream",
     "text": [
      "use_cuda\n",
      "True\n"
     ]
    }
   ],
   "source": [
    "# CUDA for PyTorch\n",
    "use_cuda = torch.cuda.is_available()\n",
    "print(\"use_cuda\")\n",
    "print(use_cuda)\n",
    "#use_cuda = False\n",
    "device = torch.device(\"cuda:0\" if use_cuda else \"cpu\")"
   ]
  },
  {
   "cell_type": "code",
   "execution_count": 4,
   "metadata": {},
   "outputs": [
    {
     "name": "stdout",
     "output_type": "stream",
     "text": [
      "37\n",
      "{'G#:min': 0, 'A:min': 1, 'C:min': 2, 'F:dim': 3, 'F#:maj': 4, 'F#:dim': 5, 'D:dim': 6, 'B:maj': 7, 'D#:maj': 8, 'A#:min': 9, 'D#:dim': 10, 'G:dim': 11, 'C:maj': 12, 'D:maj': 13, 'F:maj': 14, 'N': 15, 'C#:dim': 16, 'B:dim': 17, 'C#:maj': 18, 'B:min': 19, 'F#:min': 20, 'C#:min': 21, 'E:maj': 22, 'D#:min': 23, 'A:maj': 24, 'A#:maj': 25, 'G#:maj': 26, 'A:dim': 27, 'D:min': 28, 'G:maj': 29, 'E:min': 30, 'F:min': 31, 'C:dim': 32, 'E:dim': 33, 'G:min': 34, 'G#:dim': 35, 'A#:dim': 36}\n"
     ]
    }
   ],
   "source": [
    "# Init\n",
    "lenSeq = 16\n",
    "#lenSeq = 48\n",
    "alpha = 'a1'\n",
    "rootname = \"inputs/jazz_xlab/\"\n",
    "filenames = os.listdir(rootname)\n",
    "#filenames.remove(\".DS_Store\")\n",
    "dictChord, listChord = chordUtil.getDictChord(eval(alpha))\n",
    "print(len(dictChord))\n",
    "print(dictChord)"
   ]
  },
  {
   "cell_type": "code",
   "execution_count": 5,
   "metadata": {},
   "outputs": [],
   "source": [
    "# Create datasets\n",
    "files_train ,files_test = train_test_split(filenames,test_size=0.7)\n",
    "dataset_train = dataImport.ChordSeqDataset(files_train, rootname, alpha, dictChord, lenSeq)\n",
    "dataset_test = dataImport.ChordSeqDataset(files_test, rootname, alpha, dictChord, lenSeq)\n"
   ]
  },
  {
   "cell_type": "code",
   "execution_count": 6,
   "metadata": {},
   "outputs": [],
   "source": [
    "# Create generators\n",
    "params = {'batch_size': 64,\n",
    "          'shuffle': True,\n",
    "          'num_workers': 6}\n",
    "training_generator = data.DataLoader(dataset_train, **params)\n",
    "testing_generator = data.DataLoader(dataset_test, **params)\n"
   ]
  },
  {
   "cell_type": "code",
   "execution_count": 7,
   "metadata": {},
   "outputs": [],
   "source": [
    "class MYLSTM(nn.Module):\n",
    "    def __init__(self, input_size, hidden_size, num_layers):\n",
    "        super(MYLSTM, self).__init__()\n",
    "        self.lstm1 = nn.LSTM(input_size, hidden_size, num_layers = num_layers, batch_first = True, dropout = 0.1)\n",
    "        #self.lstm2 = nn.LSTM(input_size, hidden_size, num_layers = num_layers, batch_first = True, dropout = 0.1)\n",
    "        self.last_fully_connected = nn.Linear(hidden_size, input_size)\n",
    "        self.softmax = nn.LogSoftmax(dim=1)\n",
    "\n",
    "    def forward(self, input_batch):\n",
    "        output, (hidden, cell_state) = self.lstm1(input_batch)\n",
    "        #output, (hidden, cell_state) = self.lstm2(output,(hidden, cell_state))\n",
    "        #print(output.size(), hidden.size(), cell_state.size())\n",
    "        output = output[:,-1,:]\n",
    "        #hidden = hidden[-1,:,:]\n",
    "        #cell_state = cell_state[-1,:,:]\n",
    "        #output = torch.cat((output,hidden,cell_state),1)\n",
    "        output = self.last_fully_connected(output)\n",
    "        output = self.softmax(output)\n",
    "\n",
    "        return output"
   ]
  },
  {
   "cell_type": "code",
   "execution_count": 8,
   "metadata": {},
   "outputs": [],
   "source": [
    "def train(local_batch, local_labels):\n",
    "\n",
    "    optimizer.zero_grad()\n",
    "    loss = 0\n",
    "    \n",
    "    correct_guess, wrong_guess = 0, 0\n",
    "\n",
    "    # if tensor of shape 1 in loss function (ex : CrossEntropy)\n",
    "    local_labels_argmax = torch.tensor([torch.argmax(local_label) for local_label in local_labels]).to(device)\n",
    "    \n",
    "    \n",
    "    \n",
    "    local_batch, local_labels = local_batch.to(device), local_labels.to(device)    \n",
    "    \n",
    "    #output, (hidden, cell_state) = lstm_nn(local_batch)\n",
    "    #output = output[:,-1,:]\n",
    "    \n",
    "    output = lstm_nn(local_batch)\n",
    "    #print(output.size())\n",
    "    \n",
    "    for i in range(len(local_batch)):\n",
    "        #print(output[i].size(), local_labels[i].size())\n",
    "        if torch.argmax(output[i]) == torch.argmax(local_labels[i]):\n",
    "            correct_guess += 1\n",
    "        else:\n",
    "            wrong_guess += 1\n",
    "    \n",
    "    \n",
    "    \n",
    "    loss = criterion(output, local_labels_argmax)\n",
    "    #loss = criterion(output, local_labels)\n",
    "\n",
    "    #print(output.size(),local_labels.size())\n",
    "    \n",
    "    loss.backward()\n",
    "    optimizer.step()\n",
    "\n",
    "\n",
    "    return output, loss.item() / len(local_batch), correct_guess, wrong_guess"
   ]
  },
  {
   "cell_type": "code",
   "execution_count": 9,
   "metadata": {},
   "outputs": [],
   "source": [
    "def test(local_batch, local_labels):\n",
    "    loss = 0\n",
    "    \n",
    "    correct_guess, wrong_guess = 0, 0\n",
    "\n",
    "    # if tensor of shape 1 in loss function (ex : CrossEntropy)\n",
    "    local_labels_argmax = torch.tensor([torch.argmax(local_label) for local_label in local_labels]).to(device)\n",
    "    \n",
    "    \n",
    "    \n",
    "    local_batch, local_labels = local_batch.to(device), local_labels.to(device)\n",
    "    \n",
    "    #output, (hidden, cell_state) = lstm_nn(local_batch)\n",
    "    #output = output[:,-1,:]\n",
    "    \n",
    "    output = lstm_nn(local_batch)\n",
    "\n",
    "    \n",
    "    for i in range(len(local_batch)):\n",
    "        if torch.argmax(output[i]) == torch.argmax(local_labels[i]):\n",
    "            correct_guess += 1\n",
    "        else:\n",
    "            wrong_guess += 1\n",
    "    loss = criterion(output, local_labels_argmax)\n",
    "    #loss = criterion(output, local_labels)\n",
    "\n",
    "    return output, loss.item() / len(local_batch), correct_guess, wrong_guess\n",
    "    "
   ]
  },
  {
   "cell_type": "markdown",
   "metadata": {},
   "source": [
    "# Attention\n",
    "\n",
    "Ici, soit on crée un nouveau réseau, soit on charge un réseau déjà entraîné.\n",
    "\n",
    "Réseaux déjà entraînés :\n",
    "\n",
    "\"models/lstm_2layers_256blocks_a0.pt\"\n",
    "\n",
    "\"models/lstm_2layers_256blocks_a1.pt\""
   ]
  },
  {
   "cell_type": "code",
   "execution_count": 21,
   "metadata": {},
   "outputs": [],
   "source": [
    "#Init new model\n",
    "\n",
    "#lstm_nn = nn.LSTM(len(dictChord), len(dictChord), num_layers = lenSeq*5, batch_first = True, dropout = 0.1).to(device)\n",
    "lstm_nn = MYLSTM(input_size = len(dictChord), hidden_size = 256, num_layers = 2).to(device)\n"
   ]
  },
  {
   "cell_type": "code",
   "execution_count": 13,
   "metadata": {},
   "outputs": [],
   "source": [
    "# Or Load previous model\n",
    "lstm_nn = torch.load(\"models/lstm_2layers_256blocks_a1.pt\").to(device)"
   ]
  },
  {
   "cell_type": "code",
   "execution_count": 20,
   "metadata": {},
   "outputs": [
    {
     "name": "stdout",
     "output_type": "stream",
     "text": [
      "Start training\n",
      "0m 24s (20 10%) train, loss : 0.0954, accuracy : 67.9191%\n",
      "0m 25s (20 10%) test, loss : 0.1607, accuracy : 66.9920%\n",
      "0m 49s (40 20%) train, loss : 0.0813, accuracy : 68.8277%\n",
      "0m 50s (40 20%) test, loss : 0.1160, accuracy : 67.7270%\n",
      "1m 13s (60 30%) train, loss : 0.0807, accuracy : 68.1712%\n",
      "1m 13s (60 30%) test, loss : 0.1640, accuracy : 67.9152%\n",
      "1m 36s (80 40%) train, loss : 0.0395, accuracy : 68.6342%\n",
      "1m 36s (80 40%) test, loss : 0.1843, accuracy : 68.8108%\n",
      "1m 58s (100 50%) train, loss : 0.0513, accuracy : 69.1501%\n",
      "1m 59s (100 50%) test, loss : 0.1043, accuracy : 68.8886%\n",
      "2m 21s (120 60%) train, loss : 0.0832, accuracy : 69.3259%\n",
      "2m 21s (120 60%) test, loss : 0.2177, accuracy : 68.3743%\n",
      "2m 43s (140 70%) train, loss : 0.0810, accuracy : 69.8710%\n",
      "2m 44s (140 70%) test, loss : 0.2432, accuracy : 68.7933%\n",
      "3m 6s (160 80%) train, loss : 0.0793, accuracy : 70.2403%\n",
      "3m 6s (160 80%) test, loss : 0.1110, accuracy : 68.4872%\n",
      "3m 29s (180 90%) train, loss : 0.0533, accuracy : 69.5369%\n",
      "3m 29s (180 90%) test, loss : 0.1747, accuracy : 69.2173%\n",
      "Finished training\n"
     ]
    },
    {
     "name": "stderr",
     "output_type": "stream",
     "text": [
      "/home/valentinbilot/.pyenv/versions/anaconda3-5.2.0/lib/python3.6/site-packages/torch/serialization.py:241: UserWarning: Couldn't retrieve source code for container of type MYLSTM. It won't be checked for correctness upon loading.\n",
      "  \"type \" + obj.__name__ + \". It won't be checked \"\n"
     ]
    }
   ],
   "source": [
    "save = True\n",
    "save_path = \"models/lstm_2layers_256blocks_a1.pt\"\n",
    "lstm_nn.train(mode=True)\n",
    "\n",
    "\n",
    "\n",
    "all_losses = []\n",
    "test_losses = []\n",
    "total_loss = 0 # Reset every plot_every iters\n",
    "test_loss = 0\n",
    "\n",
    "correct_guess_train, wrong_guess_train, correct_guess_test, wrong_guess_test = 0, 0, 0, 0\n",
    "accuracy_test = []\n",
    "accuracy_train = []\n",
    "\n",
    "update_plot = False\n",
    "\n",
    "\n",
    "start = time.time()\n",
    "\n",
    "optimizer = torch.optim.Adam(lstm_nn.parameters(), lr = 1e-4)\n",
    "#print(lstm_nn.parameters())\n",
    "#optimizer = torch.optim.SGD(lstm_nn.parameters(), lr = 5e2, momentum=0.9)\n",
    "\n",
    "\n",
    "#criterion = nn.MSELoss()\n",
    "#criterion = nn.NLLLoss()\n",
    "criterion = nn.CrossEntropyLoss()\n",
    "\n",
    "\n",
    "print_every = 20\n",
    "plot_every = 20\n",
    "max_epochs = 200\n",
    "\n",
    "\n",
    "# Begin training\n",
    "print(\"Start training\")\n",
    "for epoch in range(1, max_epochs):\n",
    "    # Training\n",
    "    for local_batch, local_labels in training_generator:\n",
    "        # Transfer to GPU (nope later...)\n",
    "        #local_batch, local_labels = local_batch.to(device), local_labels.to(device)\n",
    "        \n",
    "        output, loss, correct_guess, wrong_guess = train(local_batch, local_labels)\n",
    "        #print(loss)\n",
    "        total_loss += loss\n",
    "        correct_guess_train += correct_guess\n",
    "        wrong_guess_train += wrong_guess\n",
    "\n",
    "    if epoch % print_every == 0:\n",
    "        accuracy = correct_guess_train/(correct_guess_train+wrong_guess_train)\n",
    "        print('%s (%d %d%%) train, loss : %.4f, accuracy : %.4f%%' % (timeSince(start), epoch, epoch / max_epochs * 100, loss, accuracy*100))\n",
    "\n",
    "    if epoch % plot_every == 0:\n",
    "        accuracy = correct_guess_train/(correct_guess_train+wrong_guess_train)\n",
    "        all_losses.append(total_loss / (plot_every ))\n",
    "        accuracy_train.append(accuracy)\n",
    "        total_loss = 0\n",
    "        correct_guess_train, wrong_guess_train = 0, 0\n",
    "\n",
    "        \n",
    "\n",
    "    # Testing\n",
    "    for local_batch, local_labels in testing_generator:\n",
    "        # Transfer to GPU (nope later...)\n",
    "        #local_batch, local_labels = local_batch.to(device), local_labels.to(device)\n",
    "        output, loss, correct_guess, wrong_guess  = test(local_batch, local_labels)\n",
    "        test_loss +=loss\n",
    "        \n",
    "        correct_guess_test += correct_guess\n",
    "        wrong_guess_test += wrong_guess\n",
    "        \n",
    "\n",
    "    if epoch % print_every == 0:\n",
    "        accuracy = correct_guess_test/(correct_guess_test+wrong_guess_test)\n",
    "        print('%s (%d %d%%) test, loss : %.4f, accuracy : %.4f%%' % (timeSince(start), epoch, epoch / max_epochs * 100, loss, accuracy*100))\n",
    "\n",
    "    if epoch % plot_every == 0:\n",
    "        accuracy = correct_guess_test/(correct_guess_test+wrong_guess_test)\n",
    "        test_losses.append(test_loss / (plot_every ))\n",
    "        accuracy_test.append(accuracy)\n",
    "        test_loss = 0\n",
    "        correct_guess_test, wrong_guess_test = 0, 0\n",
    "        \n",
    "        \n",
    "#experimental feature : plot in realtime\n",
    "    if update_plot and plot_every ==1:\n",
    "        if epoch == 1:\n",
    "            fig = plt.figure()\n",
    "            ax = fig.add_subplot(111)\n",
    "            print(range(epoch), accuracy_test)\n",
    "            li, = ax.plot(epoch, accuracy_test)\n",
    "            \n",
    "            ax.relim() \n",
    "            ax.autoscale_view(True,True,True)\n",
    "            fig.canvas.draw()\n",
    "            plt.show(block=False)\n",
    "        time.sleep(0.01)\n",
    "        li.set_data(list(range(epoch)),accuracy_test)\n",
    "        time.sleep(0.01)\n",
    "        fig.canvas.draw()\n",
    "        \n",
    "print(\"Finished training\")\n",
    "if save:\n",
    "    torch.save(lstm_nn, save_path)\n",
    "    \n"
   ]
  },
  {
   "cell_type": "code",
   "execution_count": 22,
   "metadata": {},
   "outputs": [
    {
     "name": "stdout",
     "output_type": "stream",
     "text": [
      "Loss :\n"
     ]
    },
    {
     "data": {
      "image/png": "[encoded data removed]",
      "text/plain": [
       "<Figure size 432x288 with 1 Axes>"
      ]
     },
     "metadata": {},
     "output_type": "display_data"
    },
    {
     "name": "stdout",
     "output_type": "stream",
     "text": [
      "Accuracy :\n"
     ]
    },
    {
     "data": {
      "image/png": "[encoded data removed]",
      "text/plain": [
       "<Figure size 432x288 with 1 Axes>"
      ]
     },
     "metadata": {},
     "output_type": "display_data"
    }
   ],
   "source": [
    "print(\"Loss :\")\n",
    "plt.figure()\n",
    "plt.plot(all_losses, label=\"train\")\n",
    "plt.legend(loc='upper right', frameon=False)\n",
    "#plt.show()\n",
    "plt.plot(test_losses, label=\"test\")\n",
    "plt.legend(loc='upper right', frameon=False)\n",
    "plt.show()\n",
    "\n",
    "print(\"Accuracy :\")\n",
    "plt.figure()\n",
    "plt.plot(accuracy_train, label=\"train\")\n",
    "plt.legend(loc='upper right', frameon=False)\n",
    "#plt.show()\n",
    "plt.plot(accuracy_test, label=\"test\")\n",
    "plt.legend(loc='upper right', frameon=False)\n",
    "plt.show()"
   ]
  },
  {
   "cell_type": "markdown",
   "metadata": {},
   "source": [
    "# Test avec une grille blues\n",
    "\n",
    "C'est un peu nul, j'ai l'impression que plus le réseau est entraîné, plus il renvoie des trucs nuls..."
   ]
  },
  {
   "cell_type": "code",
   "execution_count": 25,
   "metadata": {},
   "outputs": [],
   "source": [
    "if lenSeq == 16:\n",
    "\n",
    "    test_sequence = [\"C:maj\",\"F:maj\",\"C:maj\",\"C:maj\",\n",
    "                     \"F:maj\",\"F:maj\",\"C:maj\",\"C:maj\",\n",
    "                     \"G:maj\",\"F:maj\",\"C:maj\",\"G:maj\",\n",
    "                     \"C:maj\",\"C:maj\",\"F:maj\",\"C:maj\"]\n",
    "\n",
    "if lenSeq == 48:\n",
    "    test_sequence = [\"C:maj\",\"C:maj\",\"C:maj\",\"C:maj\",\"F:maj\",\"F:maj\",\"F:maj\",\"F:maj\",\n",
    "                    \"C:maj\",\"C:maj\",\"C:maj\",\"C:maj\",\"C:maj\",\"C:maj\",\"C:maj\",\"C:maj\",\n",
    "                    \"F:maj\",\"F:maj\",\"F:maj\",\"F:maj\",\"F:maj\",\"F:maj\",\"F:maj\",\"F:maj\",\n",
    "                    \"C:maj\",\"C:maj\",\"C:maj\",\"C:maj\",\"C:maj\",\"C:maj\",\"C:maj\",\"C:maj\",\n",
    "                    \"G:maj\",\"G:maj\",\"G:maj\",\"G:maj\",\"F:maj\",\"F:maj\",\"F:maj\",\"F:maj\",\n",
    "                    \"C:maj\",\"C:maj\",\"C:maj\",\"C:maj\",\"G:maj\",\"G:maj\",\"G:maj\",\"G:maj\"]\n",
    "\n",
    "test_sequence = test_sequence[0:lenSeq]\n",
    "test_sequence_tensor = torch.zeros(1, len(test_sequence), len(dictChord)).to(device)\n",
    "last_chords_output = torch.zeros(1, lenSeq, len(dictChord)).to(device)\n",
    "for t in range(len(test_sequence)):\n",
    "    test_sequence_tensor[0, t, dictChord[test_sequence[t]]] = 1\n",
    "    last_chords_output[0, t, dictChord[test_sequence[t]]] = 1\n",
    "\n"
   ]
  },
  {
   "cell_type": "code",
   "execution_count": 26,
   "metadata": {},
   "outputs": [
    {
     "name": "stdout",
     "output_type": "stream",
     "text": [
      "['C:maj', 'F:maj', 'C:maj', 'C:maj']\n",
      "['F:maj', 'F:maj', 'C:maj', 'C:maj']\n",
      "['G:maj', 'F:maj', 'C:maj', 'G:maj']\n",
      "['C:maj', 'C:maj', 'F:maj', 'C:maj']\n",
      "generated :\n",
      "['B:maj', 'G#:min', 'A#:min', 'A#:min']\n",
      "['A#:min', 'A#:min', 'A#:min', 'A#:min']\n",
      "['A#:min', 'A#:min', 'A#:min', 'A#:min']\n",
      "['A#:min', 'A#:min', 'A#:min', 'A#:min']\n",
      "['A#:min', 'A#:min', 'A#:min', 'A#:min']\n",
      "['A#:min', 'A#:min', 'A#:min', 'A#:min']\n",
      "['A#:min', 'A#:min', 'A#:min', 'A#:min']\n",
      "['A#:min', 'A#:min', 'A#:min', 'A#:min']\n",
      "['A#:min', 'A#:min', 'A#:min', 'A#:min']\n",
      "['A#:min', 'A#:min', 'A#:min', 'A#:min']\n",
      "['A#:min', 'A#:min', 'A#:min', 'A#:min']\n",
      "['A#:min', 'A#:min', 'A#:min', 'A#:min']\n",
      "['A#:min', 'A#:min', 'A#:min', 'A#:min']\n",
      "['A#:min', 'A#:min', 'A#:min', 'A#:min']\n",
      "['A#:min', 'A#:min', 'A#:min', 'A#:min']\n",
      "['A#:min', 'A#:min', 'A#:min', 'A#:min']\n",
      "['A#:min', 'A#:min', 'A#:min', 'A#:min']\n",
      "['A#:min', 'A#:min', 'A#:min', 'A#:min']\n",
      "['A#:min', 'A#:min', 'A#:min', 'A#:min']\n",
      "['A#:min', 'A#:min', 'A#:min', 'A#:min']\n",
      "['A#:min', 'A#:min', 'A#:min', 'A#:min']\n",
      "['A#:min', 'A#:min', 'A#:min', 'A#:min']\n",
      "['A#:min', 'A#:min', 'A#:min', 'A#:min']\n",
      "['A#:min', 'A#:min', 'A#:min', 'A#:min']\n",
      "['A#:min', 'A#:min', 'A#:min', 'A#:min']\n",
      "['A#:min', 'A#:min', 'A#:min', 'A#:min']\n"
     ]
    }
   ],
   "source": [
    "generation_lenght = 120\n",
    "\n",
    "generated_sequence = [0 for i in range(generation_lenght)]\n",
    "generated_sequence[0:lenSeq] = test_sequence\n",
    "\n",
    "lstm_nn.train(mode=False)\n",
    "\n",
    "for t in range(generation_lenght-lenSeq):\n",
    "    if t == 0:\n",
    "        output = lstm_nn(test_sequence_tensor)\n",
    "        #generated_sequence[t+lenSeq] = listChord[torch.argmax(output[0,-1]).item()]\n",
    "        generated_sequence[t+lenSeq] = listChord[torch.argmax(output).item()]\n",
    "    else : \n",
    "        #last_chords_output = torch.zeros(1, lenSeq, len(dictChord)).to(device)\n",
    "        #for i in range(lenSeq):\n",
    "            #last_chords_output[0, i, torch.argmax(output[0][-1]).item()] = 1\n",
    "        #last_chords_output = torch.tensor([[torch.argmax(output[0][i]).item() for i in range(lenSeq)]])\n",
    "        #print(output.size())\n",
    "        output = lstm_nn(last_chords_output)\n",
    "        last_chords_output[0,0:lenSeq-1] = last_chords_output[0,1:lenSeq]\n",
    "        last_chords_output[0,lenSeq-1] = output\n",
    "        last_chords_output.to(device)\n",
    "\n",
    "        \n",
    "        #output, (hidden, cell_state) = lstm_nn(last_chords_output, (hidden, cell_state))\n",
    "        #generated_sequence[t+lenSeq] = listChord[torch.argmax(output[0][-1]).item()]\n",
    "        \n",
    "        output = lstm_nn(last_chords_output)\n",
    "        generated_sequence[t+lenSeq] = listChord[torch.argmax(output).item()]\n",
    "\n",
    "        \n",
    "for i in range(generation_lenght):\n",
    "    if i%4 == 0:\n",
    "        print(generated_sequence[i:i+4])\n",
    "    if i == lenSeq-1 :\n",
    "        print(\"generated :\")"
   ]
  },
  {
   "cell_type": "code",
   "execution_count": null,
   "metadata": {},
   "outputs": [],
   "source": []
  }
 ],
 "metadata": {
  "kernelspec": {
   "display_name": "Python 3",
   "language": "python",
   "name": "python3"
  },
  "language_info": {
   "codemirror_mode": {
    "name": "ipython",
    "version": 3
   },
   "file_extension": ".py",
   "mimetype": "text/x-python",
   "name": "python",
   "nbconvert_exporter": "python",
   "pygments_lexer": "ipython3",
   "version": "3.6.5"
  }
 },
 "nbformat": 4,
 "nbformat_minor": 2
}

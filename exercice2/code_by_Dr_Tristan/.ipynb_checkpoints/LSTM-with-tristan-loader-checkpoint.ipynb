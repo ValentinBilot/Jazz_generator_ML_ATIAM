{
 "cells": [
  {
   "cell_type": "code",
   "execution_count": 13,
   "metadata": {},
   "outputs": [],
   "source": [
    "import torch\n",
    "from random import randint\n",
    "from utilities import chordUtil\n",
    "from utilities import dataImport\n",
    "from utilities.chordUtil import *\n",
    "from utilities.dataImport import *\n",
    "from sklearn.model_selection import train_test_split\n",
    "import os\n",
    "import numpy as np\n",
    "import random\n",
    "import sys\n",
    "import torch.nn as nn\n",
    "import time\n",
    "import math\n",
    "import matplotlib.pyplot as plt\n",
    "import matplotlib.ticker as ticker"
   ]
  },
  {
   "cell_type": "code",
   "execution_count": 14,
   "metadata": {},
   "outputs": [],
   "source": [
    "def timeSince(since):\n",
    "    now = time.time()\n",
    "    s = now - since\n",
    "    m = math.floor(s / 60)\n",
    "    s -= m * 60\n",
    "    return '%dm %ds' % (m, s)"
   ]
  },
  {
   "cell_type": "code",
   "execution_count": 15,
   "metadata": {},
   "outputs": [
    {
     "name": "stdout",
     "output_type": "stream",
     "text": [
      "use_cuda\n",
      "True\n"
     ]
    }
   ],
   "source": [
    "# CUDA for PyTorch\n",
    "use_cuda = torch.cuda.is_available()\n",
    "print(\"use_cuda\")\n",
    "print(use_cuda)\n",
    "#use_cuda = False\n",
    "device = torch.device(\"cuda:0\" if use_cuda else \"cpu\")"
   ]
  },
  {
   "cell_type": "code",
   "execution_count": 16,
   "metadata": {},
   "outputs": [
    {
     "name": "stdout",
     "output_type": "stream",
     "text": [
      "37\n",
      "{'F#:maj': 0, 'G#:maj': 1, 'C#:min': 2, 'G:dim': 3, 'F:min': 4, 'G#:dim': 5, 'B:min': 6, 'F#:min': 7, 'B:maj': 8, 'F:maj': 9, 'E:maj': 10, 'D:dim': 11, 'F:dim': 12, 'A:maj': 13, 'F#:dim': 14, 'D#:dim': 15, 'C:min': 16, 'A:min': 17, 'C#:maj': 18, 'G:min': 19, 'E:dim': 20, 'D:maj': 21, 'A#:dim': 22, 'A:dim': 23, 'D:min': 24, 'A#:maj': 25, 'B:dim': 26, 'D#:min': 27, 'C:maj': 28, 'E:min': 29, 'A#:min': 30, 'G:maj': 31, 'G#:min': 32, 'D#:maj': 33, 'N': 34, 'C#:dim': 35, 'C:dim': 36}\n"
     ]
    }
   ],
   "source": [
    "# Init\n",
    "lenSeq = 16\n",
    "#lenSeq = 48\n",
    "alpha = 'a1'\n",
    "rootname = \"inputs/jazz_xlab/\"\n",
    "filenames = os.listdir(rootname)\n",
    "#filenames.remove(\".DS_Store\")\n",
    "dictChord, listChord = chordUtil.getDictChord(eval(alpha))\n",
    "print(len(dictChord))\n",
    "print(dictChord)"
   ]
  },
  {
   "cell_type": "code",
   "execution_count": 17,
   "metadata": {},
   "outputs": [],
   "source": [
    "# Create datasets\n",
    "files_train ,files_test = train_test_split(filenames,test_size=0.7)\n",
    "dataset_train = dataImport.ChordSeqDataset(files_train, rootname, alpha, dictChord, lenSeq)\n",
    "dataset_test = dataImport.ChordSeqDataset(files_test, rootname, alpha, dictChord, lenSeq)\n"
   ]
  },
  {
   "cell_type": "code",
   "execution_count": 18,
   "metadata": {},
   "outputs": [],
   "source": [
    "# Create generators\n",
    "params = {'batch_size': 512,\n",
    "          'shuffle': True,\n",
    "          'num_workers': 6}\n",
    "training_generator = data.DataLoader(dataset_train, **params)\n",
    "testing_generator = data.DataLoader(dataset_test, **params)\n"
   ]
  },
  {
   "cell_type": "code",
   "execution_count": 19,
   "metadata": {},
   "outputs": [],
   "source": [
    "class MYLSTM(nn.Module):\n",
    "    def __init__(self, input_size, hidden_size, num_layers,dropout):\n",
    "        super(MYLSTM, self).__init__()\n",
    "        self.lstm1 = nn.LSTM(input_size, hidden_size, num_layers = num_layers, batch_first = True, dropout = dropout)\n",
    "        #self.lstm2 = nn.LSTM(input_size, hidden_size, num_layers = num_layers, batch_first = True, dropout = 0.1)\n",
    "        self.last_fully_connected = nn.Linear(hidden_size, input_size)\n",
    "        self.softmax = nn.LogSoftmax(dim=1)\n",
    "\n",
    "    def forward(self, input_batch):\n",
    "        output, (hidden, cell_state) = self.lstm1(input_batch)\n",
    "        #output, (hidden, cell_state) = self.lstm2(output,(hidden, cell_state))\n",
    "        #print(output.size(), hidden.size(), cell_state.size())\n",
    "        output = output[:,-1,:]\n",
    "        #hidden = hidden[-1,:,:]\n",
    "        #cell_state = cell_state[-1,:,:]\n",
    "        #output = torch.cat((output,hidden,cell_state),1)\n",
    "        output = self.last_fully_connected(output)\n",
    "        output = self.softmax(output)\n",
    "\n",
    "        return output"
   ]
  },
  {
   "cell_type": "code",
   "execution_count": 20,
   "metadata": {},
   "outputs": [],
   "source": [
    "def train(local_batch, local_labels):\n",
    "\n",
    "    optimizer.zero_grad()\n",
    "    loss = 0\n",
    "    \n",
    "    correct_guess, wrong_guess = 0, 0\n",
    "\n",
    "    # if tensor of shape 1 in loss function (ex : CrossEntropy)\n",
    "    local_labels_argmax = torch.tensor([torch.argmax(local_label) for local_label in local_labels]).to(device)\n",
    "    \n",
    "    \n",
    "    \n",
    "    local_batch, local_labels = local_batch.to(device), local_labels.to(device)    \n",
    "    \n",
    "    #output, (hidden, cell_state) = lstm_nn(local_batch)\n",
    "    #output = output[:,-1,:]\n",
    "    \n",
    "    output = lstm_nn(local_batch)\n",
    "    #print(output.size())\n",
    "    \n",
    "    for i in range(len(local_batch)):\n",
    "        #print(output[i].size(), local_labels[i].size())\n",
    "        if torch.argmax(output[i]) == torch.argmax(local_labels[i]):\n",
    "            correct_guess += 1\n",
    "        else:\n",
    "            wrong_guess += 1\n",
    "    \n",
    "    \n",
    "    \n",
    "    loss = criterion(output, local_labels_argmax)\n",
    "    #loss = criterion(output, local_labels)\n",
    "\n",
    "    #print(output.size(),local_labels.size())\n",
    "    \n",
    "    loss.backward()\n",
    "    optimizer.step()\n",
    "\n",
    "\n",
    "    return output, loss.item() / len(local_batch), correct_guess, wrong_guess"
   ]
  },
  {
   "cell_type": "code",
   "execution_count": 21,
   "metadata": {},
   "outputs": [],
   "source": [
    "def test(local_batch, local_labels):\n",
    "    loss = 0\n",
    "    \n",
    "    correct_guess, wrong_guess = 0, 0\n",
    "\n",
    "    # if tensor of shape 1 in loss function (ex : CrossEntropy)\n",
    "    local_labels_argmax = torch.tensor([torch.argmax(local_label) for local_label in local_labels]).to(device)\n",
    "    \n",
    "    \n",
    "    \n",
    "    local_batch, local_labels = local_batch.to(device), local_labels.to(device)\n",
    "    \n",
    "    #output, (hidden, cell_state) = lstm_nn(local_batch)\n",
    "    #output = output[:,-1,:]\n",
    "    \n",
    "    output = lstm_nn(local_batch)\n",
    "\n",
    "    \n",
    "    for i in range(len(local_batch)):\n",
    "        if torch.argmax(output[i]) == torch.argmax(local_labels[i]):\n",
    "            correct_guess += 1\n",
    "        else:\n",
    "            wrong_guess += 1\n",
    "    loss = criterion(output, local_labels_argmax)\n",
    "    #loss = criterion(output, local_labels)\n",
    "\n",
    "    return output, loss.item() / len(local_batch), correct_guess, wrong_guess\n",
    "    "
   ]
  },
  {
   "cell_type": "markdown",
   "metadata": {},
   "source": [
    "# Attention\n",
    "\n",
    "Ici, soit on crée un nouveau réseau, soit on charge un réseau déjà entraîné.\n",
    "\n",
    "Réseaux déjà entraînés (si non précisé, dropout = 0.1) :\n",
    "\n",
    "    - \"models/lstm_2layers_256blocks_a0.pt\"\n",
    "    - \"models/lstm_2layers_256blocks_a1.pt\"\n",
    "    - \"models/lstm_2layers_512blocks_a1_dropout=0.pt\"\n",
    "    - \"models/lstm_2layers_512blocks_a1.pt\"\n",
    "    - \"models/lstm_2layers_512blocks_a1.pt\""
   ]
  },
  {
   "cell_type": "code",
   "execution_count": 13,
   "metadata": {},
   "outputs": [],
   "source": [
    "#Init new model\n",
    "\n",
    "#lstm_nn = nn.LSTM(len(dictChord), len(dictChord), num_layers = lenSeq*5, batch_first = True, dropout = 0.1).to(device)\n",
    "lstm_nn = MYLSTM(input_size = len(dictChord), hidden_size = 512, num_layers = 2, dropout = 0).to(device)\n"
   ]
  },
  {
   "cell_type": "code",
   "execution_count": 22,
   "metadata": {},
   "outputs": [],
   "source": [
    "# Or Load previous model\n",
    "lstm_nn = torch.load(\"models/lstm_2layers_512blocks_a1.pt\").to(device)"
   ]
  },
  {
   "cell_type": "code",
   "execution_count": 18,
   "metadata": {},
   "outputs": [
    {
     "name": "stdout",
     "output_type": "stream",
     "text": [
      "Start training\n",
      "0m 40s (30 10%) train, loss : 0.0080, accuracy : 41.0590%\n",
      "0m 41s (30 10%) test, loss : 0.0058, accuracy : 42.4318%\n",
      "1m 21s (60 20%) train, loss : 0.0079, accuracy : 47.9211%\n",
      "1m 22s (60 20%) test, loss : 0.0056, accuracy : 49.4163%\n",
      "2m 3s (90 30%) train, loss : 0.0075, accuracy : 50.7347%\n",
      "2m 3s (90 30%) test, loss : 0.0053, accuracy : 51.5003%\n",
      "2m 44s (120 40%) train, loss : 0.0065, accuracy : 52.4424%\n",
      "2m 45s (120 40%) test, loss : 0.0052, accuracy : 53.2798%\n",
      "3m 25s (150 50%) train, loss : 0.0065, accuracy : 54.9707%\n",
      "3m 26s (150 50%) test, loss : 0.0048, accuracy : 54.7851%\n",
      "4m 6s (180 60%) train, loss : 0.0064, accuracy : 55.8929%\n",
      "4m 7s (180 60%) test, loss : 0.0046, accuracy : 56.1783%\n",
      "4m 48s (210 70%) train, loss : 0.0056, accuracy : 57.0848%\n",
      "4m 48s (210 70%) test, loss : 0.0043, accuracy : 56.7804%\n",
      "5m 29s (240 80%) train, loss : 0.0061, accuracy : 57.2177%\n",
      "5m 30s (240 80%) test, loss : 0.0043, accuracy : 57.7304%\n",
      "6m 10s (270 90%) train, loss : 0.0054, accuracy : 59.1442%\n",
      "6m 11s (270 90%) test, loss : 0.0043, accuracy : 58.4730%\n",
      "Finished training\n"
     ]
    },
    {
     "name": "stderr",
     "output_type": "stream",
     "text": [
      "/home/valentinbilot/.pyenv/versions/anaconda3-5.2.0/lib/python3.6/site-packages/torch/serialization.py:241: UserWarning: Couldn't retrieve source code for container of type MYLSTM. It won't be checked for correctness upon loading.\n",
      "  \"type \" + obj.__name__ + \". It won't be checked \"\n"
     ]
    }
   ],
   "source": [
    "save = True\n",
    "save_path = \"models/lstm_2layers_512blocks_a5.pt\"\n",
    "lstm_nn.train(mode=True)\n",
    "\n",
    "\n",
    "\n",
    "all_losses = []\n",
    "test_losses = []\n",
    "total_loss = 0 # Reset every plot_every iters\n",
    "test_loss = 0\n",
    "\n",
    "correct_guess_train, wrong_guess_train, correct_guess_test, wrong_guess_test = 0, 0, 0, 0\n",
    "accuracy_test = []\n",
    "accuracy_train = []\n",
    "\n",
    "update_plot = False\n",
    "\n",
    "\n",
    "start = time.time()\n",
    "\n",
    "optimizer = torch.optim.Adam(lstm_nn.parameters(), lr = 1e-4)\n",
    "#print(lstm_nn.parameters())\n",
    "#optimizer = torch.optim.SGD(lstm_nn.parameters(), lr = 5e2, momentum=0.9)\n",
    "\n",
    "\n",
    "#criterion = nn.MSELoss()\n",
    "#criterion = nn.NLLLoss()\n",
    "criterion = nn.CrossEntropyLoss()\n",
    "\n",
    "\n",
    "print_every = 30\n",
    "plot_every = 30\n",
    "max_epochs = 300\n",
    "\n",
    "\n",
    "# Begin training\n",
    "print(\"Start training\")\n",
    "for epoch in range(1, max_epochs):\n",
    "    # Training\n",
    "    for local_batch, local_labels in training_generator:\n",
    "        # Transfer to GPU (nope later...)\n",
    "        #local_batch, local_labels = local_batch.to(device), local_labels.to(device)\n",
    "        \n",
    "        output, loss, correct_guess, wrong_guess = train(local_batch, local_labels)\n",
    "        #print(loss)\n",
    "        total_loss += loss\n",
    "        correct_guess_train += correct_guess\n",
    "        wrong_guess_train += wrong_guess\n",
    "\n",
    "    if epoch % print_every == 0:\n",
    "        accuracy = correct_guess_train/(correct_guess_train+wrong_guess_train)\n",
    "        print('%s (%d %d%%) train, loss : %.4f, accuracy : %.4f%%' % (timeSince(start), epoch, epoch / max_epochs * 100, loss, accuracy*100))\n",
    "\n",
    "    if epoch % plot_every == 0:\n",
    "        accuracy = correct_guess_train/(correct_guess_train+wrong_guess_train)\n",
    "        all_losses.append(total_loss / (plot_every ))\n",
    "        accuracy_train.append(accuracy*100)\n",
    "        total_loss = 0\n",
    "        correct_guess_train, wrong_guess_train = 0, 0\n",
    "\n",
    "        \n",
    "\n",
    "    # Testing\n",
    "    for local_batch, local_labels in testing_generator:\n",
    "        # Transfer to GPU (nope later...)\n",
    "        #local_batch, local_labels = local_batch.to(device), local_labels.to(device)\n",
    "        output, loss, correct_guess, wrong_guess  = test(local_batch, local_labels)\n",
    "        test_loss +=loss\n",
    "        \n",
    "        correct_guess_test += correct_guess\n",
    "        wrong_guess_test += wrong_guess\n",
    "        \n",
    "\n",
    "    if epoch % print_every == 0:\n",
    "        accuracy = correct_guess_test/(correct_guess_test+wrong_guess_test)\n",
    "        print('%s (%d %d%%) test, loss : %.4f, accuracy : %.4f%%' % (timeSince(start), epoch, epoch / max_epochs * 100, loss, accuracy*100))\n",
    "\n",
    "    if epoch % plot_every == 0:\n",
    "        accuracy = correct_guess_test/(correct_guess_test+wrong_guess_test)\n",
    "        test_losses.append(test_loss / (plot_every ))\n",
    "        accuracy_test.append(accuracy*100)\n",
    "        test_loss = 0\n",
    "        correct_guess_test, wrong_guess_test = 0, 0\n",
    "        \n",
    "        \n",
    "#experimental feature : plot in realtime\n",
    "    if update_plot and plot_every ==1:\n",
    "        if epoch == 1:\n",
    "            fig = plt.figure()\n",
    "            ax = fig.add_subplot(111)\n",
    "            print(range(epoch), accuracy_test)\n",
    "            li, = ax.plot(epoch, accuracy_test)\n",
    "            \n",
    "            ax.relim() \n",
    "            ax.autoscale_view(True,True,True)\n",
    "            fig.canvas.draw()\n",
    "            plt.show(block=False)\n",
    "        time.sleep(0.01)\n",
    "        li.set_data(list(range(epoch)),accuracy_test)\n",
    "        time.sleep(0.01)\n",
    "        fig.canvas.draw()\n",
    "        \n",
    "print(\"Finished training\")\n",
    "if save:\n",
    "    torch.save(lstm_nn, save_path)\n",
    "    \n"
   ]
  },
  {
   "cell_type": "code",
   "execution_count": 19,
   "metadata": {},
   "outputs": [
    {
     "name": "stdout",
     "output_type": "stream",
     "text": [
      "Loss :\n"
     ]
    },
    {
     "data": {
      "image/png": "[encoded data removed]",
      "text/plain": [
       "<Figure size 432x288 with 1 Axes>"
      ]
     },
     "metadata": {},
     "output_type": "display_data"
    },
    {
     "name": "stdout",
     "output_type": "stream",
     "text": [
      "Accuracy :\n"
     ]
    },
    {
     "data": {
      "image/png": "[encoded data removed]",
      "text/plain": [
       "<Figure size 432x288 with 1 Axes>"
      ]
     },
     "metadata": {},
     "output_type": "display_data"
    }
   ],
   "source": [
    "print(\"Loss :\")\n",
    "plt.figure()\n",
    "plt.plot(all_losses, label=\"train\")\n",
    "plt.legend(loc='upper right', frameon=False)\n",
    "#plt.show()\n",
    "plt.plot(test_losses, label=\"test\")\n",
    "plt.legend(loc='upper right', frameon=False)\n",
    "plt.show()\n",
    "\n",
    "print(\"Accuracy :\")\n",
    "plt.figure()\n",
    "plt.plot(accuracy_train, label=\"train\")\n",
    "plt.legend(loc='upper right', frameon=False)\n",
    "#plt.show()\n",
    "plt.plot(accuracy_test, label=\"test\")\n",
    "plt.legend(loc='upper right', frameon=False)\n",
    "plt.show()"
   ]
  },
  {
   "cell_type": "markdown",
   "metadata": {},
   "source": [
    "# Test avec une grille blues\n",
    "\n",
    "C'est un peu nul, j'ai l'impression que plus le réseau est entraîné, plus il renvoie des trucs nuls..."
   ]
  },
  {
   "cell_type": "code",
   "execution_count": 25,
   "metadata": {},
   "outputs": [],
   "source": [
    "if lenSeq == 16:\n",
    "\n",
    "    test_sequence = [\"C:maj\",\"F:maj\",\"C:maj\",\"C:maj\",\n",
    "                     \"F:maj\",\"F:maj\",\"C:maj\",\"C:maj\",\n",
    "                     \"G:maj\",\"F:maj\",\"C:maj\",\"G:maj\",\n",
    "                     \"C:maj\",\"C:maj\",\"F:maj\",\"G:maj\"]\n",
    "    if alpha == 'a5':\n",
    "        test_sequence = [\"C:maj\",\"D:min\",\"D:maj\",\"E:min\",\n",
    "                         \"E:min\",\"E:maj\",\"F:min\",\"F:maj\",\n",
    "                         \"G:min\",\"G:maj\",\"A:min\",\"A:maj\",\n",
    "                         \"B:min\",\"B:maj\",\"C:min\",\"C:maj\"]\n",
    "\n",
    "if lenSeq == 48:\n",
    "    test_sequence = [\"C:maj\",\"C:maj\",\"C:maj\",\"C:maj\",\"F:maj\",\"F:maj\",\"F:maj\",\"F:maj\",\n",
    "                    \"C:maj\",\"C:maj\",\"C:maj\",\"C:maj\",\"C:maj\",\"C:maj\",\"C:maj\",\"C:maj\",\n",
    "                    \"F:maj\",\"F:maj\",\"F:maj\",\"F:maj\",\"F:maj\",\"F:maj\",\"F:maj\",\"F:maj\",\n",
    "                    \"C:maj\",\"C:maj\",\"C:maj\",\"C:maj\",\"C:maj\",\"C:maj\",\"C:maj\",\"C:maj\",\n",
    "                    \"G:maj\",\"G:maj\",\"G:maj\",\"G:maj\",\"F:maj\",\"F:maj\",\"F:maj\",\"F:maj\",\n",
    "                    \"C:maj\",\"C:maj\",\"C:maj\",\"C:maj\",\"G:maj\",\"G:maj\",\"G:maj\",\"G:maj\"]\n",
    "    \n",
    "\n",
    "\n",
    "test_sequence = test_sequence[0:lenSeq]\n",
    "test_sequence_tensor = torch.zeros(1, len(test_sequence), len(dictChord)).to(device)\n",
    "last_chords_output = torch.zeros(1, lenSeq, len(dictChord)).to(device)\n",
    "test_sequence_tensor.requires_grad = False\n",
    "last_chords_output.requires_grad = False\n",
    "for t in range(len(test_sequence)):\n",
    "    test_sequence_tensor[0, t, dictChord[test_sequence[t]]] = 1\n",
    "    if t != len(test_sequence)-1 :\n",
    "        last_chords_output[0, t-1, dictChord[test_sequence[t]]] = 1\n",
    "\n"
   ]
  },
  {
   "cell_type": "code",
   "execution_count": 29,
   "metadata": {},
   "outputs": [
    {
     "name": "stdout",
     "output_type": "stream",
     "text": [
      "['C:maj', 'F:maj', 'C:maj', 'C:maj']\n",
      "['F:maj', 'F:maj', 'C:maj', 'C:maj']\n",
      "['G:maj', 'F:maj', 'C:maj', 'G:maj']\n",
      "['C:maj', 'C:maj', 'F:maj', 'G:maj']\n",
      "generated :\n",
      "['G:maj', 'G:min', 'G:min', 'G:min']\n",
      "['G:min', 'G:min', 'G:min', 'G:min']\n",
      "['G:min', 'G:min', 'G:min', 'G:min']\n",
      "['G:min', 'G:min', 'G:min', 'G:min']\n",
      "['G:min', 'G:min', 'G:min', 'G:min']\n",
      "['G:min', 'G:min', 'G:min', 'G:min']\n",
      "['G:min', 'G:min', 'G:min', 'G:min']\n",
      "['G:min', 'G:min', 'G:min', 'G:min']\n",
      "['G:min', 'G:min', 'G:min', 'G:min']\n",
      "['G:min', 'G:min', 'G:min', 'G:min']\n",
      "['G:min', 'G:min', 'G:min', 'G:min']\n",
      "['G:min', 'G:min', 'G:min', 'G:min']\n",
      "['G:min', 'G:min', 'G:min', 'G:min']\n",
      "['G:min', 'G:min', 'G:min', 'G:min']\n",
      "['G:min', 'G:min', 'G:min', 'G:min']\n",
      "['G:min', 'G:min', 'G:min', 'G:min']\n",
      "['G:min', 'G:min', 'G:min', 'G:min']\n",
      "['G:min', 'G:min', 'G:min', 'G:min']\n",
      "['G:min', 'G:min', 'G:min', 'G:min']\n",
      "['G:min', 'G:min', 'G:min', 'G:min']\n",
      "['G:min', 'G:min', 'G:min', 'G:min']\n",
      "['G:min', 'G:min', 'G:min', 'G:min']\n",
      "['G:min', 'G:min', 'G:min', 'G:min']\n",
      "['G:min', 'G:min', 'G:min', 'G:min']\n",
      "['G:min', 'G:min', 'G:min', 'G:min']\n",
      "['G:min', 'G:min', 'G:min', 'G:min']\n"
     ]
    }
   ],
   "source": [
    "generation_lenght = 120\n",
    "\n",
    "generated_sequence = [0 for i in range(generation_lenght)]\n",
    "generated_sequence[0:lenSeq] = test_sequence\n",
    "\n",
    "lstm_nn.train(mode=False)\n",
    "softmax = nn.Softmax(dim=0)\n",
    "\n",
    "#Experimental\n",
    "sampling = False\n",
    "from random import choices\n",
    "\n",
    "\n",
    "\n",
    "for t in range(generation_lenght-lenSeq):\n",
    "    if t == 0:\n",
    "        output_probability = lstm_nn(test_sequence_tensor)\n",
    "        \n",
    "        if sampling:\n",
    "            choice = choices(range(len(listChord)),softmax(output_probability[0]))[0]\n",
    "            generated_sequence[t+lenSeq] = listChord[choice]\n",
    "            last_chords_output[0, lenSeq-1, choice] = 1\n",
    "            \n",
    "        else: \n",
    "            generated_sequence[t+lenSeq] = listChord[torch.argmax(output_probability).item()]\n",
    "            last_chords_output[0, lenSeq-1, torch.argmax(output_probability).item()] = 1\n",
    "            \n",
    "            \n",
    "    else:\n",
    "        \n",
    "        last_chords_output.to(device)        \n",
    "        output_probability = lstm_nn(last_chords_output)\n",
    "        last_chords_output[0,0:lenSeq-1] = last_chords_output[0,1:lenSeq]\n",
    "        \n",
    "        if sampling:\n",
    "            choice = choices(range(len(listChord)),softmax(output_probability[0]))[0]\n",
    "            generated_sequence[t+lenSeq] = listChord[choice]\n",
    "            last_chords_output[0, lenSeq-1, choice] = 1\n",
    "            \n",
    "        else:\n",
    "            last_chords_output[0, lenSeq-1, torch.argmax(output_probability).item()] = 1\n",
    "            generated_sequence[t+lenSeq] = listChord[torch.argmax(output).item()]\n",
    "    \n",
    "        \n",
    "\n",
    "\n",
    "        \n",
    "\n",
    "        \n",
    "for i in range(generation_lenght):\n",
    "    if i%4 == 0:\n",
    "        print(generated_sequence[i:i+4])\n",
    "    if i == lenSeq-1 :\n",
    "        print(\"generated :\")"
   ]
  },
  {
   "cell_type": "code",
   "execution_count": null,
   "metadata": {},
   "outputs": [],
   "source": []
  }
 ],
 "metadata": {
  "kernelspec": {
   "display_name": "Python 3",
   "language": "python",
   "name": "python3"
  },
  "language_info": {
   "codemirror_mode": {
    "name": "ipython",
    "version": 3
   },
   "file_extension": ".py",
   "mimetype": "text/x-python",
   "name": "python",
   "nbconvert_exporter": "python",
   "pygments_lexer": "ipython3",
   "version": "3.6.5"
  }
 },
 "nbformat": 4,
 "nbformat_minor": 2
}

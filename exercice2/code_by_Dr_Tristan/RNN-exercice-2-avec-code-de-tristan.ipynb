{
 "cells": [
  {
   "cell_type": "markdown",
   "metadata": {},
   "source": [
    "# Petite implémentation d'un RNN tout simple pour tester les fonctions d'importation de la Base de données faites par Tristan"
   ]
  },
  {
   "cell_type": "code",
   "execution_count": 23,
   "metadata": {},
   "outputs": [],
   "source": [
    "import torch\n",
    "from random import randint\n",
    "from utilities import chordUtil\n",
    "from utilities import dataImport\n",
    "from utilities.chordUtil import *\n",
    "from utilities.dataImport import *\n",
    "from sklearn.model_selection import train_test_split\n",
    "import os\n",
    "import numpy as np\n",
    "import random\n",
    "import sys\n",
    "import torch.nn as nn\n",
    "import time\n",
    "import math\n",
    "import matplotlib.pyplot as plt\n",
    "import matplotlib.ticker as ticker"
   ]
  },
  {
   "cell_type": "code",
   "execution_count": 24,
   "metadata": {},
   "outputs": [],
   "source": [
    "def timeSince(since):\n",
    "    now = time.time()\n",
    "    s = now - since\n",
    "    m = math.floor(s / 60)\n",
    "    s -= m * 60\n",
    "    return '%dm %ds' % (m, s)"
   ]
  },
  {
   "cell_type": "code",
   "execution_count": 25,
   "metadata": {},
   "outputs": [
    {
     "name": "stdout",
     "output_type": "stream",
     "text": [
      "use_cuda\n",
      "False\n"
     ]
    }
   ],
   "source": [
    "# CUDA for PyTorch\n",
    "use_cuda = torch.cuda.is_available()\n",
    "print(\"use_cuda\")\n",
    "print(use_cuda)\n",
    "device = torch.device(\"cuda:0\" if use_cuda else \"cpu\")"
   ]
  },
  {
   "cell_type": "code",
   "execution_count": 26,
   "metadata": {},
   "outputs": [
    {
     "name": "stdout",
     "output_type": "stream",
     "text": [
      "37\n",
      "{'E:dim': 0, 'A:min': 1, 'B:maj': 2, 'G:maj': 3, 'G#:maj': 4, 'A#:maj': 5, 'D:dim': 6, 'F:dim': 7, 'F#:dim': 8, 'E:min': 9, 'D#:maj': 10, 'E:maj': 11, 'F:min': 12, 'D:maj': 13, 'C#:min': 14, 'A#:dim': 15, 'N': 16, 'A:dim': 17, 'B:min': 18, 'C#:maj': 19, 'F:maj': 20, 'G#:min': 21, 'G:min': 22, 'C:maj': 23, 'C#:dim': 24, 'F#:min': 25, 'D#:min': 26, 'C:dim': 27, 'F#:maj': 28, 'B:dim': 29, 'C:min': 30, 'A#:min': 31, 'D:min': 32, 'G#:dim': 33, 'A:maj': 34, 'G:dim': 35, 'D#:dim': 36}\n"
     ]
    }
   ],
   "source": [
    "# Init\n",
    "lenSeq = 16\n",
    "alpha = 'a1'\n",
    "rootname = \"inputs/jazz_xlab/\"\n",
    "filenames = os.listdir(rootname)\n",
    "#filenames.remove(\".DS_Store\")\n",
    "dictChord, listChord = chordUtil.getDictChord(eval(alpha))\n",
    "print(len(dictChord))\n",
    "print(dictChord)"
   ]
  },
  {
   "cell_type": "code",
   "execution_count": 27,
   "metadata": {},
   "outputs": [],
   "source": [
    "# Create datasets\n",
    "files_train ,files_test = train_test_split(filenames,test_size=0.7)\n",
    "dataset_train = dataImport.ChordSeqDataset(files_train, rootname, alpha, dictChord, lenSeq)\n",
    "dataset_test = dataImport.ChordSeqDataset(files_test, rootname, alpha, dictChord, lenSeq)\n"
   ]
  },
  {
   "cell_type": "code",
   "execution_count": 28,
   "metadata": {},
   "outputs": [],
   "source": [
    "# Create generators\n",
    "params = {'batch_size': 64,\n",
    "          'shuffle': True,\n",
    "          'num_workers': 6}\n",
    "training_generator = data.DataLoader(dataset_train, **params)\n",
    "testing_generator = data.DataLoader(dataset_test, **params)\n"
   ]
  },
  {
   "cell_type": "code",
   "execution_count": 29,
   "metadata": {},
   "outputs": [],
   "source": [
    "class RNN(nn.Module):\n",
    "    def __init__(self, input_size, hidden_size, output_size):\n",
    "        super(RNN, self).__init__()\n",
    "        self.hidden_size = hidden_size\n",
    "        self.i2h = nn.Linear(input_size + hidden_size, hidden_size)\n",
    "        self.i2o = nn.Linear(input_size + hidden_size, output_size)\n",
    "        self.o2o = nn.Linear(hidden_size + output_size, output_size)\n",
    "        self.dropout = nn.Dropout(0.1)\n",
    "        self.softmax = nn.LogSoftmax(dim=0)\n",
    "\n",
    "    def forward(self, input, hidden):\n",
    "        input_combined = torch.cat((input, hidden), 0)\n",
    "        hidden = self.i2h(input_combined)\n",
    "        output = self.i2o(input_combined)\n",
    "        output_combined = torch.cat((hidden, output), 0)\n",
    "        output = self.o2o(output_combined)\n",
    "        output = self.dropout(output)\n",
    "        output = self.softmax(output)\n",
    "        return output, hidden\n",
    "\n",
    "    def initHidden(self):\n",
    "        return torch.zeros(self.hidden_size)"
   ]
  },
  {
   "cell_type": "code",
   "execution_count": 30,
   "metadata": {},
   "outputs": [],
   "source": [
    "def train(local_batch, local_labels):\n",
    "    hidden = rnn.initHidden()\n",
    "\n",
    "    rnn.zero_grad()\n",
    "\n",
    "    loss = 0\n",
    "    #print(local_batch[0])\n",
    "    #print(local_batch.size())\n",
    "    #print(local_labels[0])\n",
    "    #print(local_labels.size())\n",
    "    # parcourir le mini batc\n",
    "    for i in range(len(local_batch)):\n",
    "        hidden = rnn.initHidden()\n",
    "        # parcourir la sequence\n",
    "        for j in range(len(local_batch[i])):      \n",
    "            output, hidden = rnn(local_batch[i][j], hidden)\n",
    "            \n",
    "        #print(output)\n",
    "        #print(local_labels[i])\n",
    "        #l = criterion(output, torch.tensor([torch.argmax(local_labels[i])]))\n",
    "        #l = criterion(output, local_labels[i])\n",
    "        l = criterion(torch.reshape(output,(1, len(output))), torch.tensor([torch.argmax(local_labels[i])]))\n",
    "        loss += l\n",
    "\n",
    "    loss.backward()\n",
    "\n",
    "    for p in rnn.parameters():\n",
    "        p.data.add_(-learning_rate, p.grad.data)\n",
    "\n",
    "    return output, loss.item() / len(local_batch)"
   ]
  },
  {
   "cell_type": "code",
   "execution_count": 31,
   "metadata": {},
   "outputs": [
    {
     "name": "stdout",
     "output_type": "stream",
     "text": [
      "0m 25s (5 5%) 3.3482\n",
      "0m 47s (10 10%) 2.9441\n",
      "1m 11s (15 15%) 2.6627\n",
      "1m 34s (20 20%) 2.8165\n",
      "1m 57s (25 25%) 2.3811\n",
      "2m 21s (30 30%) 2.7407\n",
      "2m 44s (35 35%) 2.2790\n",
      "3m 6s (40 40%) 2.5434\n",
      "3m 29s (45 45%) 2.0764\n",
      "3m 51s (50 50%) 2.2100\n",
      "4m 15s (55 55%) 2.4734\n",
      "4m 39s (60 60%) 1.9615\n",
      "5m 1s (65 65%) 1.7366\n",
      "5m 23s (70 70%) 2.4031\n",
      "5m 48s (75 75%) 1.6859\n",
      "6m 9s (80 80%) 2.7086\n",
      "6m 32s (85 85%) 1.5396\n",
      "6m 54s (90 90%) 2.5209\n",
      "7m 18s (95 95%) 2.0006\n"
     ]
    }
   ],
   "source": [
    "rnn = RNN(len(dictChord), 128, len(dictChord))\n",
    "\n",
    "plot_every = 5\n",
    "all_losses = []\n",
    "total_loss = 0 # Reset every plot_every iters\n",
    "start = time.time()\n",
    "criterion = nn.NLLLoss()\n",
    "learning_rate = 0.0005\n",
    "print_every = 5\n",
    "max_epochs = 100\n",
    "\n",
    "\n",
    "# Begin training\n",
    "\n",
    "for epoch in range(1, max_epochs):\n",
    "    # Training\n",
    "    for local_batch, local_labels in training_generator:\n",
    "        # Transfer to GPU\n",
    "        local_batch, local_labels = local_batch.to(device), local_labels.to(device)\n",
    "        \n",
    "        output, loss = train(local_batch, local_labels)\n",
    "        total_loss += loss\n",
    "\n",
    "    if epoch % print_every == 0:\n",
    "        print('%s (%d %d%%) %.4f' % (timeSince(start), epoch, epoch / max_epochs * 100, loss))\n",
    "\n",
    "    if epoch % plot_every == 0:\n",
    "        all_losses.append(total_loss / (plot_every * len(local_batch)))\n",
    "        total_loss = 0\n",
    "        \n",
    "\n",
    "    # Testing\n",
    "    #for local_batch, local_labels in testing_generator:\n",
    "        # Transfer to GPU\n",
    "        #local_batch, local_labels = local_batch.to(device), local_labels.to(device)\n",
    "\n",
    "        # //// Test the model  ////\n"
   ]
  },
  {
   "cell_type": "code",
   "execution_count": 32,
   "metadata": {},
   "outputs": [
    {
     "data": {
      "image/png": "[encoded data removed]",
      "text/plain": [
       "<Figure size 432x288 with 1 Axes>"
      ]
     },
     "metadata": {},
     "output_type": "display_data"
    }
   ],
   "source": [
    "plt.figure()\n",
    "plt.plot(all_losses)\n",
    "plt.show()"
   ]
  },
  {
   "cell_type": "code",
   "execution_count": 33,
   "metadata": {},
   "outputs": [],
   "source": [
    "test_sequence = [\"C:maj\",\"F:maj\",\"C:maj\",\"C:maj\",\"F:maj\",\"F:maj\",\"C:maj\",\"C:maj\",\"G:maj\",\"F:maj\"]\n",
    "\n",
    "test_sequence_tensor = torch.zeros(len(test_sequence), len(dictChord))\n",
    "for t in range(len(test_sequence)):\n",
    "    test_sequence_tensor[t, dictChord[test_sequence[t]]] = 1\n"
   ]
  },
  {
   "cell_type": "code",
   "execution_count": 34,
   "metadata": {},
   "outputs": [
    {
     "name": "stdout",
     "output_type": "stream",
     "text": [
      "['C:maj', 'F:maj', 'C:maj', 'C:maj', 'F:maj', 'F:maj', 'C:maj', 'C:maj']\n",
      "['G:maj', 'F:maj', 'F:maj', 'G:maj', 'G:maj', 'G:maj', 'D:min', 'D:min']\n",
      "['A:maj', 'A:maj', 'A:maj', 'D:maj', 'A:maj', 'D:maj', 'A:maj', 'A:maj']\n",
      "['A:maj', 'A:maj', 'A:maj', 'A:maj', 'A:maj', 'A:maj', 'A:maj', 'A:maj']\n",
      "['A:maj', 'D:maj', 'D:maj', 'D:maj', 'D:maj', 'D:maj', 'D:maj', 'D:maj']\n",
      "['D:maj', 'D:maj', 'D:maj', 'D:maj', 'D:maj', 'A:maj', 'D:maj', 'A:maj']\n",
      "['D:maj', 'D:maj', 'D:maj', 'D:maj', 'D:maj', 'D:maj', 'D:maj', 'D:maj']\n",
      "['D:maj', 'D:maj', 'D:maj', 'D:maj', 'D:maj', 'A:maj', 'D:maj', 'D:maj']\n",
      "['D:maj', 'D:maj', 'D:maj', 'D:maj', 'D:maj', 'D:maj', 'D:maj', 'D:maj']\n",
      "['D:maj', 'D:maj', 'D:maj', 'D:maj', 'D:maj', 'A:maj', 'D:maj', 'D:maj']\n",
      "['D:maj', 'D:maj', 'D:maj', 'A:maj', 'D:maj', 'A:maj', 'D:maj', 'D:maj']\n",
      "['D:maj', 'D:maj', 'D:maj', 'D:maj', 'D:maj', 'D:maj', 'D:maj', 'D:maj']\n",
      "['A:maj', 'D:maj', 'D:maj', 'G:maj', 'D:maj', 'D:maj', 'D:maj', 'D:maj']\n",
      "['D:maj', 'D:maj', 'D:maj', 'D:maj', 'D:maj', 'A:maj', 'A:maj', 'D:maj']\n",
      "['D:maj', 'D:maj', 'D:maj', 'D:maj', 'D:maj', 'D:maj', 'D:maj', 'D:maj']\n"
     ]
    }
   ],
   "source": [
    "hidden = rnn.initHidden()\n",
    "generation_lenght = 120\n",
    "\n",
    "generated_sequence = [0 for i in range(generation_lenght)]\n",
    "\n",
    "for t in range(generation_lenght):\n",
    "    if t < len(test_sequence):\n",
    "        output, hidden = rnn(test_sequence_tensor[t], hidden)\n",
    "        generated_sequence[t] = test_sequence[t]\n",
    "    else : \n",
    "        last_chord_output = torch.zeros(len(dictChord))\n",
    "        last_chord_output[torch.argmax(output).item()]\n",
    "        output, hidden = rnn(last_chord_output, hidden)\n",
    "        generated_sequence[t] = listChord[torch.argmax(output).item()]\n",
    "\n",
    "        \n",
    "for i in range(generation_lenght):\n",
    "    if i%8 == 0:\n",
    "        print(generated_sequence[i:i+8])"
   ]
  },
  {
   "cell_type": "code",
   "execution_count": null,
   "metadata": {},
   "outputs": [],
   "source": []
  }
 ],
 "metadata": {
  "kernelspec": {
   "display_name": "Python 3",
   "language": "python",
   "name": "python3"
  },
  "language_info": {
   "codemirror_mode": {
    "name": "ipython",
    "version": 3
   },
   "file_extension": ".py",
   "mimetype": "text/x-python",
   "name": "python",
   "nbconvert_exporter": "python",
   "pygments_lexer": "ipython3",
   "version": "3.6.5"
  }
 },
 "nbformat": 4,
 "nbformat_minor": 2
}

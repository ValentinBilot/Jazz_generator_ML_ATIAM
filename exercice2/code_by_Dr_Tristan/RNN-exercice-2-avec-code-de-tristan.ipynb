{
 "cells": [
  {
   "cell_type": "markdown",
   "metadata": {},
   "source": [
    "# Petite implémentation d'un RNN tout simple pour tester les fonctions d'importation de la Base de données faites par Tristan"
   ]
  },
  {
   "cell_type": "code",
   "execution_count": 1,
   "metadata": {},
   "outputs": [],
   "source": [
    "import torch\n",
    "from random import randint\n",
    "from utilities import chordUtil\n",
    "from utilities import dataImport\n",
    "from utilities.chordUtil import *\n",
    "from utilities.dataImport import *\n",
    "from sklearn.model_selection import train_test_split\n",
    "import os\n",
    "import numpy as np\n",
    "import random\n",
    "import sys\n",
    "import torch.nn as nn\n",
    "import time\n",
    "import math\n",
    "import matplotlib.pyplot as plt\n",
    "import matplotlib.ticker as ticker"
   ]
  },
  {
   "cell_type": "code",
   "execution_count": 2,
   "metadata": {},
   "outputs": [],
   "source": [
    "def timeSince(since):\n",
    "    now = time.time()\n",
    "    s = now - since\n",
    "    m = math.floor(s / 60)\n",
    "    s -= m * 60\n",
    "    return '%dm %ds' % (m, s)"
   ]
  },
  {
   "cell_type": "code",
   "execution_count": 3,
   "metadata": {},
   "outputs": [
    {
     "name": "stdout",
     "output_type": "stream",
     "text": [
      "use_cuda\n",
      "False\n"
     ]
    }
   ],
   "source": [
    "# CUDA for PyTorch\n",
    "use_cuda = torch.cuda.is_available()\n",
    "print(\"use_cuda\")\n",
    "print(use_cuda)\n",
    "device = torch.device(\"cuda:0\" if use_cuda else \"cpu\")"
   ]
  },
  {
   "cell_type": "code",
   "execution_count": 38,
   "metadata": {},
   "outputs": [
    {
     "name": "stdout",
     "output_type": "stream",
     "text": [
      "25\n",
      "{'E:maj': 0, 'A:min': 1, 'G#:maj': 2, 'D#:min': 3, 'D:maj': 4, 'C#:maj': 5, 'A:maj': 6, 'B:maj': 7, 'C#:min': 8, 'A#:min': 9, 'D:min': 10, 'G#:min': 11, 'C:min': 12, 'F:min': 13, 'N': 14, 'C:maj': 15, 'D#:maj': 16, 'F#:maj': 17, 'G:min': 18, 'F:maj': 19, 'E:min': 20, 'F#:min': 21, 'A#:maj': 22, 'G:maj': 23, 'B:min': 24}\n"
     ]
    }
   ],
   "source": [
    "# Init\n",
    "lenSeq = 1\n",
    "alpha = 'a0'\n",
    "rootname = \"inputs/jazz_xlab/\"\n",
    "filenames = os.listdir(rootname)\n",
    "#filenames.remove(\".DS_Store\")\n",
    "dictChord, listChord = chordUtil.getDictChord(eval(alpha))\n",
    "print(len(dictChord))\n",
    "print(dictChord)"
   ]
  },
  {
   "cell_type": "code",
   "execution_count": 32,
   "metadata": {},
   "outputs": [],
   "source": [
    "# Create datasets\n",
    "files_train ,files_test = train_test_split(filenames,test_size=0.7)\n",
    "dataset_train = dataImport.ChordSeqDataset(files_train, rootname, alpha, dictChord, lenSeq)\n",
    "dataset_test = dataImport.ChordSeqDataset(files_test, rootname, alpha, dictChord, lenSeq)\n"
   ]
  },
  {
   "cell_type": "code",
   "execution_count": 33,
   "metadata": {},
   "outputs": [],
   "source": [
    "# Create generators\n",
    "params = {'batch_size': 64,\n",
    "          'shuffle': True,\n",
    "          'num_workers': 6}\n",
    "training_generator = data.DataLoader(dataset_train, **params)\n",
    "testing_generator = data.DataLoader(dataset_test, **params)\n"
   ]
  },
  {
   "cell_type": "code",
   "execution_count": 34,
   "metadata": {},
   "outputs": [],
   "source": [
    "class RNN(nn.Module):\n",
    "    def __init__(self, input_size, hidden_size, output_size):\n",
    "        super(RNN, self).__init__()\n",
    "        self.hidden_size = hidden_size\n",
    "        self.i2h = nn.Linear(input_size + hidden_size, hidden_size)\n",
    "        self.i2o = nn.Linear(input_size + hidden_size, output_size)\n",
    "        self.o2o = nn.Linear(hidden_size + output_size, output_size)\n",
    "        self.dropout = nn.Dropout(0.1)\n",
    "        self.softmax = nn.LogSoftmax(dim=1)\n",
    "\n",
    "    def forward(self, input, hidden):\n",
    "        input_combined = torch.cat((input, hidden), 1)\n",
    "        hidden = self.i2h(input_combined)\n",
    "        output = self.i2o(input_combined)\n",
    "        output_combined = torch.cat((hidden, output), 1)\n",
    "        output = self.o2o(output_combined)\n",
    "        output = self.dropout(output)\n",
    "        output = self.softmax(output)\n",
    "        return output, hidden\n",
    "\n",
    "    def initHidden(self):\n",
    "        return torch.zeros(1, self.hidden_size)"
   ]
  },
  {
   "cell_type": "code",
   "execution_count": 35,
   "metadata": {},
   "outputs": [],
   "source": [
    "def train(X_in,Y_out):\n",
    "    hidden = rnn.initHidden()\n",
    "\n",
    "    rnn.zero_grad()\n",
    "\n",
    "    loss = 0\n",
    "\n",
    "    for i in range(len(X_in) - 1):\n",
    "        output, hidden = rnn(X_in[i], hidden)\n",
    "        l = criterion(output, torch.tensor([torch.argmax(Y_out[i])]))\n",
    "        loss += l\n",
    "\n",
    "    loss.backward()\n",
    "\n",
    "    for p in rnn.parameters():\n",
    "        p.data.add_(-learning_rate, p.grad.data)\n",
    "\n",
    "    return output, loss.item() / len(X_in)"
   ]
  },
  {
   "cell_type": "code",
   "execution_count": 52,
   "metadata": {},
   "outputs": [
    {
     "name": "stdout",
     "output_type": "stream",
     "text": [
      "0m 13s (20 4%) 2.4009\n",
      "0m 26s (40 8%) 2.9735\n",
      "0m 39s (60 12%) 2.1137\n",
      "0m 53s (80 16%) 1.7311\n",
      "1m 8s (100 20%) 1.9909\n",
      "1m 21s (120 24%) 2.4511\n",
      "1m 34s (140 28%) 1.5948\n",
      "1m 48s (160 32%) 1.9778\n",
      "2m 2s (180 36%) 1.7084\n",
      "2m 15s (200 40%) 1.7703\n",
      "2m 29s (220 44%) 2.1895\n",
      "2m 41s (240 48%) 2.3624\n",
      "2m 56s (260 52%) 1.7770\n",
      "3m 9s (280 56%) 1.6160\n",
      "3m 24s (300 60%) 1.6053\n",
      "3m 37s (320 64%) 1.1650\n",
      "3m 49s (340 68%) 1.5350\n",
      "4m 4s (360 72%) 1.2563\n",
      "4m 17s (380 76%) 1.7997\n",
      "4m 31s (400 80%) 1.8771\n",
      "4m 46s (420 84%) 1.9874\n",
      "4m 59s (440 88%) 1.0173\n",
      "5m 13s (460 92%) 1.7840\n",
      "5m 27s (480 96%) 1.5094\n"
     ]
    }
   ],
   "source": [
    "rnn = RNN(len(dictChord), 128, len(dictChord))\n",
    "\n",
    "plot_every = 10\n",
    "all_losses = []\n",
    "total_loss = 0 # Reset every plot_every iters\n",
    "start = time.time()\n",
    "criterion = nn.NLLLoss()\n",
    "learning_rate = 0.0005\n",
    "print_every = 20\n",
    "max_epochs = 500\n",
    "\n",
    "\n",
    "# Begin training\n",
    "\n",
    "for epoch in range(1, max_epochs):\n",
    "    # Training\n",
    "    for local_batch, local_labels in training_generator:\n",
    "        # Transfer to GPU\n",
    "        local_batch, local_labels = local_batch.to(device), local_labels.to(device)\n",
    "        \n",
    "        \n",
    "        output, loss = train(local_batch, local_labels)\n",
    "        total_loss += loss\n",
    "\n",
    "    if epoch % print_every == 0:\n",
    "        print('%s (%d %d%%) %.4f' % (timeSince(start), epoch, epoch / max_epochs * 100, loss))\n",
    "\n",
    "    if epoch % plot_every == 0:\n",
    "        all_losses.append(total_loss / (plot_every * len(local_batch)))\n",
    "        total_loss = 0\n",
    "        \n",
    "\n",
    "    # Testing\n",
    "    #for local_batch, local_labels in testing_generator:\n",
    "        # Transfer to GPU\n",
    "        #local_batch, local_labels = local_batch.to(device), local_labels.to(device)\n",
    "\n",
    "        # //// Test the model  ////\n"
   ]
  },
  {
   "cell_type": "code",
   "execution_count": 53,
   "metadata": {},
   "outputs": [
    {
     "data": {
      "image/png": "[encoded data removed]",
      "text/plain": [
       "<Figure size 432x288 with 1 Axes>"
      ]
     },
     "metadata": {},
     "output_type": "display_data"
    }
   ],
   "source": [
    "plt.figure()\n",
    "plt.plot(all_losses)\n",
    "plt.show()"
   ]
  },
  {
   "cell_type": "code",
   "execution_count": 54,
   "metadata": {},
   "outputs": [],
   "source": [
    "test_sequence = [\"C:maj\",\"F:maj\",\"C:maj\",\"C:maj\",\"F:maj\",\"F:maj\",\"C:maj\",\"C:maj\",\"G:maj\",\"F:maj\"]\n",
    "\n",
    "test_sequence_tensor = torch.zeros(len(test_sequence), 1, len(dictChord))\n",
    "for t in range(len(test_sequence)):\n",
    "    test_sequence_tensor[t, 0, dictChord[test_sequence[t]]] = 1\n"
   ]
  },
  {
   "cell_type": "code",
   "execution_count": 55,
   "metadata": {},
   "outputs": [
    {
     "name": "stdout",
     "output_type": "stream",
     "text": [
      "['C:maj', 'F:maj', 'C:maj', 'C:maj', 'F:maj', 'F:maj', 'C:maj', 'C:maj']\n",
      "['G:maj', 'F:maj', 'D#:min', 'C#:min', 'C#:min', 'A#:maj', 'G#:min', 'C#:min']\n",
      "['E:min', 'N', 'G#:min', 'E:maj', 'E:min', 'G:min', 'D#:min', 'C#:maj']\n",
      "['G#:maj', 'E:maj', 'A:min', 'G#:maj', 'G:maj', 'B:maj', 'D:maj', 'C:min']\n",
      "['D:maj', 'A:maj', 'G#:min', 'C#:min', 'C#:maj', 'D#:min', 'C:maj', 'N']\n",
      "['N', 'C:maj', 'N', 'B:maj', 'C:maj', 'A:maj', 'G#:maj', 'E:maj']\n",
      "['A:maj', 'A:min', 'E:maj', 'B:maj', 'A:maj', 'E:min', 'G:maj', 'A:maj']\n",
      "['C#:maj', 'C#:maj', 'N', 'G#:min', 'E:min', 'E:maj', 'G#:maj', 'C:min']\n",
      "['C:min', 'A:min', 'B:min', 'A:min', 'G#:min', 'A:min', 'C#:maj', 'F:maj']\n",
      "['D#:min', 'D:maj', 'A:min', 'A:min', 'E:maj', 'A:min', 'C#:min', 'A:min']\n",
      "['D#:min', 'B:maj', 'N', 'G#:min', 'D#:min', 'C#:min', 'B:maj', 'A:min']\n",
      "['D:min', 'D:maj', 'N', 'D:maj', 'E:maj', 'B:maj', 'B:maj', 'D:maj']\n",
      "['F:min', 'A#:min', 'A:min', 'E:min']\n"
     ]
    }
   ],
   "source": [
    "hidden = rnn.initHidden()\n",
    "generation_lenght = 100\n",
    "\n",
    "generated_sequence = [0 for i in range(generation_lenght)]\n",
    "\n",
    "for t in range(generation_lenght):\n",
    "    if t < len(test_sequence):\n",
    "        output, hidden = rnn(test_sequence_tensor[t], hidden)\n",
    "        generated_sequence[t] = test_sequence[t]\n",
    "    else : \n",
    "        last_chord_output = torch.zeros(1, len(dictChord))\n",
    "        last_chord_output[0, torch.argmax(output).item()]\n",
    "        output, hidden = rnn(last_chord_output, hidden)\n",
    "        generated_sequence[t] = listChord[torch.argmax(output).item()]\n",
    "\n",
    "        \n",
    "for i in range(generation_lenght):\n",
    "    if i%8 == 0:\n",
    "        print(generated_sequence[i:i+8])"
   ]
  },
  {
   "cell_type": "code",
   "execution_count": null,
   "metadata": {},
   "outputs": [],
   "source": []
  }
 ],
 "metadata": {
  "kernelspec": {
   "display_name": "Python 3",
   "language": "python",
   "name": "python3"
  },
  "language_info": {
   "codemirror_mode": {
    "name": "ipython",
    "version": 3
   },
   "file_extension": ".py",
   "mimetype": "text/x-python",
   "name": "python",
   "nbconvert_exporter": "python",
   "pygments_lexer": "ipython3",
   "version": "3.6.5"
  }
 },
 "nbformat": 4,
 "nbformat_minor": 2
}

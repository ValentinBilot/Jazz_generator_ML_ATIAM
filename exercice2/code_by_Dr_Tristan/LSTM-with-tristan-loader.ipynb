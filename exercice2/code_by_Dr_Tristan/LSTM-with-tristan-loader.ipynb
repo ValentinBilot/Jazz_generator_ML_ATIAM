{
 "cells": [
  {
   "cell_type": "code",
   "execution_count": 65,
   "metadata": {},
   "outputs": [],
   "source": [
    "import torch\n",
    "from random import randint\n",
    "from utilities import chordUtil\n",
    "from utilities import dataImport\n",
    "from utilities.chordUtil import *\n",
    "from utilities.dataImport import *\n",
    "from sklearn.model_selection import train_test_split\n",
    "import os\n",
    "import numpy as np\n",
    "import random\n",
    "import sys\n",
    "import torch.nn as nn\n",
    "import time\n",
    "import math\n",
    "import matplotlib.pyplot as plt\n",
    "import matplotlib.ticker as ticker"
   ]
  },
  {
   "cell_type": "code",
   "execution_count": 66,
   "metadata": {},
   "outputs": [],
   "source": [
    "def timeSince(since):\n",
    "    now = time.time()\n",
    "    s = now - since\n",
    "    m = math.floor(s / 60)\n",
    "    s -= m * 60\n",
    "    return '%dm %ds' % (m, s)"
   ]
  },
  {
   "cell_type": "code",
   "execution_count": 67,
   "metadata": {},
   "outputs": [
    {
     "name": "stdout",
     "output_type": "stream",
     "text": [
      "use_cuda\n",
      "False\n"
     ]
    }
   ],
   "source": [
    "# CUDA for PyTorch\n",
    "use_cuda = torch.cuda.is_available()\n",
    "print(\"use_cuda\")\n",
    "print(use_cuda)\n",
    "device = torch.device(\"cuda:0\" if use_cuda else \"cpu\")"
   ]
  },
  {
   "cell_type": "code",
   "execution_count": 68,
   "metadata": {},
   "outputs": [
    {
     "name": "stdout",
     "output_type": "stream",
     "text": [
      "37\n",
      "{'D#:min': 0, 'C:maj': 1, 'A#:min': 2, 'F#:min': 3, 'A:min': 4, 'A#:dim': 5, 'D#:maj': 6, 'E:min': 7, 'G:maj': 8, 'D:min': 9, 'D#:dim': 10, 'E:dim': 11, 'A:maj': 12, 'B:maj': 13, 'G:min': 14, 'C:dim': 15, 'D:maj': 16, 'F#:maj': 17, 'D:dim': 18, 'F:maj': 19, 'F:dim': 20, 'G:dim': 21, 'G#:maj': 22, 'B:min': 23, 'G#:dim': 24, 'C#:dim': 25, 'A#:maj': 26, 'F:min': 27, 'C:min': 28, 'A:dim': 29, 'N': 30, 'C#:maj': 31, 'G#:min': 32, 'E:maj': 33, 'B:dim': 34, 'F#:dim': 35, 'C#:min': 36}\n"
     ]
    }
   ],
   "source": [
    "# Init\n",
    "lenSeq = 16\n",
    "alpha = 'a1'\n",
    "rootname = \"inputs/jazz_xlab/\"\n",
    "filenames = os.listdir(rootname)\n",
    "#filenames.remove(\".DS_Store\")\n",
    "dictChord, listChord = chordUtil.getDictChord(eval(alpha))\n",
    "print(len(dictChord))\n",
    "print(dictChord)"
   ]
  },
  {
   "cell_type": "code",
   "execution_count": 69,
   "metadata": {},
   "outputs": [],
   "source": [
    "# Create datasets\n",
    "files_train ,files_test = train_test_split(filenames,test_size=0.7)\n",
    "dataset_train = dataImport.ChordSeqDataset(files_train, rootname, alpha, dictChord, lenSeq)\n",
    "dataset_test = dataImport.ChordSeqDataset(files_test, rootname, alpha, dictChord, lenSeq)\n"
   ]
  },
  {
   "cell_type": "code",
   "execution_count": 70,
   "metadata": {},
   "outputs": [],
   "source": [
    "# Create generators\n",
    "params = {'batch_size': 64,\n",
    "          'shuffle': True,\n",
    "          'num_workers': 6}\n",
    "training_generator = data.DataLoader(dataset_train, **params)\n",
    "testing_generator = data.DataLoader(dataset_test, **params)\n"
   ]
  },
  {
   "cell_type": "code",
   "execution_count": 71,
   "metadata": {},
   "outputs": [],
   "source": [
    "def train(local_batch, local_labels):\n",
    "\n",
    "    optimizer.zero_grad()\n",
    "    loss = 0\n",
    "\n",
    "    local_labels = torch.tensor([torch.argmax(local_label) for local_label in local_labels])\n",
    "\n",
    "    \n",
    "    \n",
    "    output, (hidden, cell_state) = lstm_nn(local_batch)\n",
    "\n",
    "    output = output[:,-1,:]\n",
    "    loss = criterion(output, local_labels)\n",
    "    loss.backward()\n",
    "    optimizer.step()\n",
    "\n",
    "\n",
    "    return output, loss.item() / len(local_batch)"
   ]
  },
  {
   "cell_type": "code",
   "execution_count": 72,
   "metadata": {},
   "outputs": [],
   "source": [
    "def test(local_batch, local_labels):\n",
    "    loss = 0\n",
    "\n",
    "    local_labels = torch.tensor([torch.argmax(local_label) for local_label in local_labels])\n",
    "    \n",
    "    output, (hidden, cell_state) = lstm_nn(local_batch)\n",
    "\n",
    "    output = output[:,-1,:]\n",
    "    loss = criterion(output, local_labels)\n",
    "\n",
    "    return output, loss.item() / len(local_batch)\n",
    "    "
   ]
  },
  {
   "cell_type": "code",
   "execution_count": 77,
   "metadata": {},
   "outputs": [
    {
     "name": "stdout",
     "output_type": "stream",
     "text": [
      "train : 0m 7s (2 4%) -0.0182\n",
      "test : 0m 10s (2 4%) -0.2317\n",
      "train : 0m 18s (4 8%) -0.0319\n",
      "test : 0m 20s (4 8%) -0.4505\n",
      "train : 0m 28s (6 12%) -0.0436\n",
      "test : 0m 30s (6 12%) -0.5516\n",
      "train : 0m 37s (8 16%) -0.0442\n",
      "test : 0m 39s (8 16%) -0.5682\n",
      "train : 0m 48s (10 20%) -0.0467\n",
      "test : 0m 50s (10 20%) -0.5676\n",
      "train : 0m 58s (12 24%) -0.0467\n",
      "test : 1m 0s (12 24%) -0.5782\n",
      "train : 1m 7s (14 28%) -0.0443\n",
      "test : 1m 9s (14 28%) -0.5843\n",
      "train : 1m 17s (16 32%) -0.0441\n",
      "test : 1m 20s (16 32%) -0.5862\n",
      "train : 1m 27s (18 36%) -0.0470\n",
      "test : 1m 29s (18 36%) -0.5878\n",
      "train : 1m 37s (20 40%) -0.0473\n",
      "test : 1m 39s (20 40%) -0.5873\n",
      "train : 1m 47s (22 44%) -0.0473\n",
      "test : 1m 49s (22 44%) -0.5878\n",
      "train : 1m 56s (24 48%) -0.0471\n",
      "test : 1m 58s (24 48%) -0.5890\n",
      "train : 2m 6s (26 52%) -0.0472\n",
      "test : 2m 9s (26 52%) -0.5904\n",
      "train : 2m 16s (28 56%) -0.0475\n",
      "test : 2m 18s (28 56%) -0.5911\n",
      "train : 2m 26s (30 60%) -0.0474\n",
      "test : 2m 28s (30 60%) -0.5899\n",
      "train : 2m 36s (32 64%) -0.0471\n",
      "test : 2m 38s (32 64%) -0.5880\n",
      "train : 2m 46s (34 68%) -0.0474\n",
      "test : 2m 48s (34 68%) -0.5902\n",
      "train : 2m 55s (36 72%) -0.0475\n",
      "test : 2m 58s (36 72%) -0.5793\n",
      "train : 3m 5s (38 76%) -0.0475\n",
      "test : 3m 8s (38 76%) -0.5920\n",
      "train : 3m 15s (40 80%) -0.0473\n",
      "test : 3m 17s (40 80%) -0.5921\n",
      "train : 3m 25s (42 84%) -0.0475\n",
      "test : 3m 27s (42 84%) -0.5906\n",
      "train : 3m 35s (44 88%) -0.0475\n",
      "test : 3m 37s (44 88%) -0.5921\n",
      "train : 3m 44s (46 92%) -0.0475\n",
      "test : 3m 47s (46 92%) -0.5924\n",
      "train : 3m 54s (48 96%) -0.0475\n",
      "test : 3m 56s (48 96%) -0.5929\n"
     ]
    }
   ],
   "source": [
    "lstm_nn = nn.LSTM(len(dictChord), len(dictChord), num_layers = 15, batch_first = True, dropout = 0.1)\n",
    "\n",
    "all_losses = []\n",
    "test_losses = []\n",
    "total_loss = 0 # Reset every plot_every iters\n",
    "test_loss = 0\n",
    "start = time.time()\n",
    "\n",
    "#optimizer = torch.optim.Adam(lstm_nn.parameters(), lr = 1e-4)\n",
    "#criterion = nn.CrossEntropyLoss()\n",
    "\n",
    "\n",
    "optimizer = torch.optim.SGD(lstm_nn.parameters(), lr = 5e-2, momentum=0.9)\n",
    "criterion = nn.NLLLoss()\n",
    "\n",
    "print_every = 2\n",
    "plot_every = 1\n",
    "max_epochs = 50\n",
    "\n",
    "\n",
    "# Begin training\n",
    "\n",
    "for epoch in range(1, max_epochs):\n",
    "    # Training\n",
    "    for local_batch, local_labels in training_generator:\n",
    "        # Transfer to GPU\n",
    "        local_batch, local_labels = local_batch.to(device), local_labels.to(device)\n",
    "        \n",
    "        output, loss = train(local_batch, local_labels)\n",
    "        #print(loss)\n",
    "        total_loss += loss\n",
    "\n",
    "    if epoch % print_every == 0:\n",
    "        print('train : %s (%d %d%%) %.4f' % (timeSince(start), epoch, epoch / max_epochs * 100, loss))\n",
    "\n",
    "    if epoch % plot_every == 0:\n",
    "        all_losses.append(total_loss / (plot_every ))\n",
    "        total_loss = 0\n",
    "        \n",
    "\n",
    "    # Testing\n",
    "    for local_batch, local_labels in testing_generator:\n",
    "        # Transfer to GPU\n",
    "        local_batch, local_labels = local_batch.to(device), local_labels.to(device)\n",
    "        output, loss = test(local_batch, local_labels)\n",
    "        test_loss +=loss\n",
    "\n",
    "    if epoch % print_every == 0:\n",
    "        print('test : %s (%d %d%%) %.4f' % (timeSince(start), epoch, epoch / max_epochs * 100, test_loss))\n",
    "\n",
    "    if epoch % plot_every == 0:\n",
    "        test_losses.append(test_loss / (plot_every ))\n",
    "        test_loss = 0\n",
    "\n"
   ]
  },
  {
   "cell_type": "code",
   "execution_count": 78,
   "metadata": {},
   "outputs": [
    {
     "data": {
      "image/png": "[encoded data removed]",
      "text/plain": [
       "<Figure size 432x288 with 1 Axes>"
      ]
     },
     "metadata": {},
     "output_type": "display_data"
    }
   ],
   "source": [
    "plt.figure()\n",
    "plt.plot(all_losses, label=\"train\")\n",
    "plt.legend(loc='upper left', frameon=False)\n",
    "#plt.show()\n",
    "plt.plot(test_losses, label=\"test\")\n",
    "plt.legend(loc='upper left', frameon=False)\n",
    "plt.show()"
   ]
  },
  {
   "cell_type": "code",
   "execution_count": 79,
   "metadata": {},
   "outputs": [],
   "source": [
    "test_sequence = [\"C:maj\",\"F:maj\",\"C:maj\",\"C:maj\",\"F:maj\",\"F:maj\",\"C:maj\",\"C:maj\",\"G:maj\",\"F:maj\",\"C:maj\",\"G:maj\",\"C:maj\",\"C:maj\",\"F:maj\",\"C:maj\"]\n",
    "\n",
    "test_sequence_tensor = torch.zeros(1, len(test_sequence), len(dictChord))\n",
    "for t in range(len(test_sequence)):\n",
    "    test_sequence_tensor[0, t, dictChord[test_sequence[t]]] = 1\n"
   ]
  },
  {
   "cell_type": "code",
   "execution_count": 80,
   "metadata": {},
   "outputs": [
    {
     "name": "stdout",
     "output_type": "stream",
     "text": [
      "['C:maj', 'F:maj', 'C:maj', 'C:maj', 'F:maj', 'F:maj', 'C:maj', 'C:maj']\n",
      "['G:maj', 'F:maj', 'C:maj', 'G:maj', 'C:maj', 'C:maj', 'F:maj', 'C:maj']\n",
      "['F:maj', 'C:maj', 'C:maj', 'F:maj', 'F:maj', 'F:maj', 'F:maj', 'F:maj']\n",
      "['C:maj', 'F:maj', 'F:maj', 'C:maj', 'F:maj', 'F:maj', 'F:maj', 'F:maj']\n",
      "['C:maj', 'C:maj', 'C:maj', 'F:maj', 'C:maj', 'C:maj', 'C:maj', 'C:maj']\n",
      "['C:maj', 'F:maj', 'C:maj', 'F:maj', 'C:maj', 'C:maj', 'F:maj', 'C:maj']\n",
      "['F:maj', 'C:maj', 'C:maj', 'C:maj', 'F:maj', 'C:maj', 'F:maj', 'C:maj']\n",
      "['C:maj', 'F:maj', 'C:maj', 'F:maj', 'C:maj', 'C:maj', 'F:maj', 'C:maj']\n",
      "['F:maj', 'C:maj', 'C:maj', 'C:maj', 'F:maj', 'C:maj', 'F:maj', 'C:maj']\n",
      "['C:maj', 'C:maj', 'C:maj', 'F:maj', 'F:maj', 'F:maj', 'F:maj', 'F:maj']\n",
      "['C:maj', 'C:maj', 'F:maj', 'F:maj', 'C:maj', 'F:maj', 'F:maj', 'C:maj']\n",
      "['C:maj', 'F:maj', 'F:maj', 'C:maj', 'C:maj', 'C:maj', 'C:maj', 'F:maj']\n",
      "['F:maj', 'F:maj', 'C:maj', 'C:maj', 'C:maj', 'C:maj', 'C:maj', 'C:maj']\n",
      "['F:maj', 'F:maj', 'C:maj', 'F:maj', 'C:maj', 'C:maj', 'F:maj', 'F:maj']\n",
      "['C:maj', 'C:maj', 'C:maj', 'C:maj', 'F:maj', 'C:maj', 'C:maj', 'C:maj']\n"
     ]
    }
   ],
   "source": [
    "generation_lenght = 120\n",
    "\n",
    "generated_sequence = [0 for i in range(generation_lenght)]\n",
    "generated_sequence[0:lenSeq] = test_sequence\n",
    "\n",
    "for t in range(generation_lenght-lenSeq):\n",
    "    if t == 0:\n",
    "        output, (hidden, cell_state) = lstm_nn(test_sequence_tensor)\n",
    "        generated_sequence[t+lenSeq] = listChord[torch.argmax(output[0,-1]).item()]\n",
    "        \n",
    "    else : \n",
    "        last_chords_output = torch.zeros(1, lenSeq, len(dictChord))\n",
    "        for i in range(lenSeq):\n",
    "            last_chords_output[0, i, torch.argmax(output[0][-1]).item()] = 1\n",
    "        #last_chords_output = torch.tensor([[torch.argmax(output[0][i]).item() for i in range(lenSeq)]])\n",
    "        output, (hidden, cell_state) = lstm_nn(last_chords_output, (hidden, cell_state))\n",
    "        generated_sequence[t+lenSeq] = listChord[torch.argmax(output[0][-1]).item()]\n",
    "\n",
    "        \n",
    "for i in range(generation_lenght):\n",
    "    if i%8 == 0:\n",
    "        print(generated_sequence[i:i+8])"
   ]
  }
 ],
 "metadata": {
  "kernelspec": {
   "display_name": "Python 3",
   "language": "python",
   "name": "python3"
  },
  "language_info": {
   "codemirror_mode": {
    "name": "ipython",
    "version": 3
   },
   "file_extension": ".py",
   "mimetype": "text/x-python",
   "name": "python",
   "nbconvert_exporter": "python",
   "pygments_lexer": "ipython3",
   "version": "3.6.5"
  }
 },
 "nbformat": 4,
 "nbformat_minor": 2
}

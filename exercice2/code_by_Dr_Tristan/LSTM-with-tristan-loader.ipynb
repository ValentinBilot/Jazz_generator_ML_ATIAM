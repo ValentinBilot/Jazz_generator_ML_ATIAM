{
 "cells": [
  {
   "cell_type": "code",
   "execution_count": 1,
   "metadata": {},
   "outputs": [],
   "source": [
    "import torch\n",
    "from random import randint\n",
    "from utilities import chordUtil\n",
    "from utilities import dataImport\n",
    "from utilities.chordUtil import *\n",
    "from utilities.dataImport import *\n",
    "from sklearn.model_selection import train_test_split\n",
    "import os\n",
    "import numpy as np\n",
    "import random\n",
    "import sys\n",
    "import torch.nn as nn\n",
    "import time\n",
    "import math\n",
    "import matplotlib.pyplot as plt\n",
    "import matplotlib.ticker as ticker"
   ]
  },
  {
   "cell_type": "code",
   "execution_count": 2,
   "metadata": {},
   "outputs": [],
   "source": [
    "def timeSince(since):\n",
    "    now = time.time()\n",
    "    s = now - since\n",
    "    m = math.floor(s / 60)\n",
    "    s -= m * 60\n",
    "    return '%dm %ds' % (m, s)"
   ]
  },
  {
   "cell_type": "code",
   "execution_count": 3,
   "metadata": {},
   "outputs": [
    {
     "name": "stdout",
     "output_type": "stream",
     "text": [
      "use_cuda\n",
      "True\n"
     ]
    }
   ],
   "source": [
    "# CUDA for PyTorch\n",
    "use_cuda = torch.cuda.is_available()\n",
    "print(\"use_cuda\")\n",
    "print(use_cuda)\n",
    "#use_cuda = False\n",
    "device = torch.device(\"cuda:0\" if use_cuda else \"cpu\")"
   ]
  },
  {
   "cell_type": "code",
   "execution_count": 4,
   "metadata": {},
   "outputs": [
    {
     "name": "stdout",
     "output_type": "stream",
     "text": [
      "121\n",
      "{'G:dim': 0, 'A#:sus': 1, 'C:maj7': 2, 'G#:min': 3, 'A:min': 4, 'F#:dim': 5, 'A:7': 6, 'B:6': 7, 'C:maj': 8, 'E:sus': 9, 'G#:maj7': 10, 'E:dim': 11, 'C:min': 12, 'G:sus': 13, 'G:6': 14, 'B:sus': 15, 'D:min7': 16, 'F:maj': 17, 'A#:min7': 18, 'D:maj7': 19, 'E:aug': 20, 'E:7': 21, 'F#:7': 22, 'D:maj': 23, 'A:dim7': 24, 'C:dim7': 25, 'D#:sus': 26, 'G#:aug': 27, 'B:dim7': 28, 'D#:dim7': 29, 'G#:maj': 30, 'A#:dim': 31, 'C:7': 32, 'G#:7': 33, 'C:aug': 34, 'B:min': 35, 'G:dim7': 36, 'B:maj': 37, 'D#:min': 38, 'A#:maj7': 39, 'A#:maj': 40, 'C#:min': 41, 'G#:dim': 42, 'D#:aug': 43, 'F:dim': 44, 'G:aug': 45, 'E:maj7': 46, 'G:maj7': 47, 'E:min': 48, 'A:maj7': 49, 'G#:6': 50, 'A#:min': 51, 'A#:7': 52, 'N': 53, 'B:min7': 54, 'F:maj7': 55, 'E:min7': 56, 'B:aug': 57, 'F#:min7': 58, 'D#:maj7': 59, 'B:dim': 60, 'B:maj7': 61, 'C:6': 62, 'C#:dim7': 63, 'G:maj': 64, 'C#:6': 65, 'F:6': 66, 'D#:6': 67, 'A#:dim7': 68, 'D#:min7': 69, 'D:dim': 70, 'F:7': 71, 'F#:dim7': 72, 'B:7': 73, 'D:7': 74, 'C#:sus': 75, 'G#:sus': 76, 'D#:dim': 77, 'C#:min7': 78, 'E:dim7': 79, 'D:sus': 80, 'F#:maj7': 81, 'D:aug': 82, 'D:6': 83, 'D:min': 84, 'F#:maj': 85, 'C:min7': 86, 'D:dim7': 87, 'A:dim': 88, 'A#:6': 89, 'A:maj': 90, 'E:maj': 91, 'A#:aug': 92, 'G:min': 93, 'C#:aug': 94, 'F:aug': 95, 'F#:6': 96, 'A:sus': 97, 'F:dim7': 98, 'F:sus': 99, 'G:7': 100, 'E:6': 101, 'A:6': 102, 'G:min7': 103, 'F:min7': 104, 'F#:aug': 105, 'C:sus': 106, 'F#:min': 107, 'F:min': 108, 'F#:sus': 109, 'A:min7': 110, 'D#:7': 111, 'C#:maj7': 112, 'G#:dim7': 113, 'C#:7': 114, 'A:aug': 115, 'C#:dim': 116, 'D#:maj': 117, 'C:dim': 118, 'C#:maj': 119, 'G#:min7': 120}\n"
     ]
    }
   ],
   "source": [
    "# Init\n",
    "#lenSeq = 16\n",
    "lenSeq = 48\n",
    "alpha = 'a3'\n",
    "rootname = \"inputs/jazz_xlab/\"\n",
    "filenames = os.listdir(rootname)\n",
    "#filenames.remove(\".DS_Store\")\n",
    "dictChord, listChord = chordUtil.getDictChord(eval(alpha))\n",
    "print(len(dictChord))\n",
    "print(dictChord)"
   ]
  },
  {
   "cell_type": "code",
   "execution_count": 5,
   "metadata": {},
   "outputs": [],
   "source": [
    "# Create datasets\n",
    "files_train ,files_test = train_test_split(filenames,test_size=0.7)\n",
    "dataset_train = dataImport.ChordSeqDataset(files_train, rootname, alpha, dictChord, lenSeq)\n",
    "dataset_test = dataImport.ChordSeqDataset(files_test, rootname, alpha, dictChord, lenSeq)\n"
   ]
  },
  {
   "cell_type": "code",
   "execution_count": 6,
   "metadata": {},
   "outputs": [],
   "source": [
    "# Create generators\n",
    "params = {'batch_size': 64,\n",
    "          'shuffle': True,\n",
    "          'num_workers': 6}\n",
    "training_generator = data.DataLoader(dataset_train, **params)\n",
    "testing_generator = data.DataLoader(dataset_test, **params)\n"
   ]
  },
  {
   "cell_type": "code",
   "execution_count": 7,
   "metadata": {},
   "outputs": [],
   "source": [
    "def train(local_batch, local_labels):\n",
    "\n",
    "    optimizer.zero_grad()\n",
    "    loss = 0\n",
    "    \n",
    "    correct_guess, wrong_guess = 0, 0\n",
    "\n",
    "    local_labels_argmax = torch.tensor([torch.argmax(local_label) for local_label in local_labels]).to(device)\n",
    "    local_batch, local_labels = local_batch.to(device), local_labels.to(device)    \n",
    "    \n",
    "    output, (hidden, cell_state) = lstm_nn(local_batch)\n",
    "\n",
    "    output = output[:,-1,:]\n",
    "    for i in range(len(local_batch)):\n",
    "        #print(output[i].size(), local_labels[i].size())\n",
    "        if torch.argmax(output[i]) == torch.argmax(local_labels[i]):\n",
    "            correct_guess += 1\n",
    "        else:\n",
    "            wrong_guess += 1\n",
    "    \n",
    "    #loss = criterion(output, local_labels_argmax)\n",
    "    loss = criterion(output, local_labels)\n",
    "    loss.backward()\n",
    "    optimizer.step()\n",
    "\n",
    "\n",
    "    return output, loss.item() / len(local_batch), correct_guess, wrong_guess"
   ]
  },
  {
   "cell_type": "code",
   "execution_count": 11,
   "metadata": {},
   "outputs": [],
   "source": [
    "def test(local_batch, local_labels):\n",
    "    loss = 0\n",
    "    \n",
    "    correct_guess, wrong_guess = 0, 0\n",
    "\n",
    "\n",
    "    local_labels_argmax = torch.tensor([torch.argmax(local_label) for local_label in local_labels]).to(device)\n",
    "    local_batch, local_labels = local_batch.to(device), local_labels.to(device)\n",
    "    \n",
    "    output, (hidden, cell_state) = lstm_nn(local_batch)\n",
    "\n",
    "    output = output[:,-1,:]\n",
    "    \n",
    "    for i in range(len(local_batch)):\n",
    "        if torch.argmax(output[i]) == torch.argmax(local_labels[i]):\n",
    "            correct_guess += 1\n",
    "        else:\n",
    "            wrong_guess += 1\n",
    "    #loss = criterion(output, local_labels_argmax)\n",
    "    loss = criterion(output, local_labels)\n",
    "\n",
    "    return output, loss.item() / len(local_batch), correct_guess, wrong_guess\n",
    "    "
   ]
  },
  {
   "cell_type": "code",
   "execution_count": 12,
   "metadata": {},
   "outputs": [
    {
     "name": "stdout",
     "output_type": "stream",
     "text": [
      "0m 47s (5 5%) train, loss : 0.0004, accuracy : 1.5006%\n",
      "0m 52s (5 5%) test, loss : 0.0010, accuracy : 1.2042%\n",
      "1m 39s (10 10%) train, loss : 0.0004, accuracy : 1.5475%\n",
      "1m 45s (10 10%) test, loss : 0.0010, accuracy : 1.2544%\n",
      "2m 32s (15 15%) train, loss : 0.0004, accuracy : 1.3599%\n",
      "2m 38s (15 15%) test, loss : 0.0010, accuracy : 1.2142%\n",
      "3m 25s (20 20%) train, loss : 0.0004, accuracy : 1.2427%\n",
      "3m 30s (20 20%) test, loss : 0.0010, accuracy : 1.2945%\n",
      "4m 18s (25 25%) train, loss : 0.0004, accuracy : 1.3599%\n",
      "4m 23s (25 25%) test, loss : 0.0009, accuracy : 1.2644%\n",
      "5m 10s (30 30%) train, loss : 0.0004, accuracy : 1.4302%\n",
      "5m 16s (30 30%) test, loss : 0.0010, accuracy : 1.5253%\n",
      "6m 3s (35 35%) train, loss : 0.0004, accuracy : 1.3599%\n",
      "6m 8s (35 35%) test, loss : 0.0010, accuracy : 1.5354%\n",
      "6m 56s (40 40%) train, loss : 0.0004, accuracy : 2.7433%\n",
      "7m 1s (40 40%) test, loss : 0.0009, accuracy : 2.5891%\n",
      "7m 48s (45 45%) train, loss : 0.0004, accuracy : 5.2755%\n",
      "7m 54s (45 45%) test, loss : 0.0009, accuracy : 4.7165%\n",
      "8m 41s (50 50%) train, loss : 0.0004, accuracy : 5.5803%\n",
      "8m 46s (50 50%) test, loss : 0.0009, accuracy : 5.5494%\n",
      "9m 34s (55 55%) train, loss : 0.0004, accuracy : 5.6272%\n",
      "9m 39s (55 55%) test, loss : 0.0009, accuracy : 5.4190%\n",
      "10m 26s (60 60%) train, loss : 0.0004, accuracy : 5.2286%\n",
      "10m 31s (60 60%) test, loss : 0.0009, accuracy : 5.3989%\n",
      "11m 19s (65 65%) train, loss : 0.0004, accuracy : 5.6975%\n",
      "11m 24s (65 65%) test, loss : 0.0009, accuracy : 5.8605%\n",
      "12m 12s (70 70%) train, loss : 0.0004, accuracy : 5.5100%\n",
      "12m 17s (70 70%) test, loss : 0.0009, accuracy : 5.9910%\n",
      "13m 4s (75 75%) train, loss : 0.0004, accuracy : 5.4396%\n",
      "13m 9s (75 75%) test, loss : 0.0009, accuracy : 5.8103%\n",
      "13m 57s (80 80%) train, loss : 0.0004, accuracy : 5.3927%\n",
      "14m 3s (80 80%) test, loss : 0.0009, accuracy : 5.9007%\n",
      "14m 54s (85 85%) train, loss : 0.0004, accuracy : 5.8851%\n",
      "14m 59s (85 85%) test, loss : 0.0009, accuracy : 5.6999%\n",
      "15m 50s (90 90%) train, loss : 0.0004, accuracy : 5.4631%\n",
      "15m 56s (90 90%) test, loss : 0.0009, accuracy : 5.9609%\n",
      "16m 43s (95 95%) train, loss : 0.0004, accuracy : 5.6038%\n",
      "16m 49s (95 95%) test, loss : 0.0009, accuracy : 5.8505%\n"
     ]
    }
   ],
   "source": [
    "lstm_nn = nn.LSTM(len(dictChord), len(dictChord), num_layers = lenSeq, batch_first = True, dropout = 0.1).to(device)\n",
    "\n",
    "all_losses = []\n",
    "test_losses = []\n",
    "total_loss = 0 # Reset every plot_every iters\n",
    "test_loss = 0\n",
    "\n",
    "correct_guess_train, wrong_guess_train, correct_guess_test, wrong_guess_test = 0, 0, 0, 0\n",
    "accuracy_test = []\n",
    "accuracy_train = []\n",
    "\n",
    "\n",
    "start = time.time()\n",
    "\n",
    "#optimizer = torch.optim.Adam(lstm_nn.parameters(), lr = 1e-4)\n",
    "optimizer = torch.optim.SGD(lstm_nn.parameters(), lr = 1e-2, momentum=0.9)\n",
    "\n",
    "\n",
    "criterion = nn.MSELoss()\n",
    "#criterion = nn.NLLLoss()\n",
    "#criterion = nn.CrossEntropyLoss()\n",
    "\n",
    "\n",
    "print_every = 5\n",
    "plot_every = 5\n",
    "max_epochs = 100\n",
    "\n",
    "\n",
    "# Begin training\n",
    "\n",
    "for epoch in range(1, max_epochs):\n",
    "    # Training\n",
    "    for local_batch, local_labels in training_generator:\n",
    "        # Transfer to GPU (nope later...)\n",
    "        #local_batch, local_labels = local_batch.to(device), local_labels.to(device)\n",
    "        \n",
    "        output, loss, correct_guess, wrong_guess = train(local_batch, local_labels)\n",
    "        #print(loss)\n",
    "        total_loss += loss\n",
    "        correct_guess_train += correct_guess\n",
    "        wrong_guess_train += wrong_guess\n",
    "\n",
    "    if epoch % print_every == 0:\n",
    "        accuracy = correct_guess_train/(correct_guess_train+wrong_guess_train)\n",
    "        print('%s (%d %d%%) train, loss : %.4f, accuracy : %.4f%%' % (timeSince(start), epoch, epoch / max_epochs * 100, loss, accuracy*100))\n",
    "\n",
    "    if epoch % plot_every == 0:\n",
    "        accuracy = correct_guess_train/(correct_guess_train+wrong_guess_train)\n",
    "        all_losses.append(total_loss / (plot_every ))\n",
    "        accuracy_train.append(accuracy)\n",
    "        total_loss = 0\n",
    "        correct_guess_train, wrong_guess_train = 0, 0\n",
    "\n",
    "        \n",
    "\n",
    "    # Testing\n",
    "    for local_batch, local_labels in testing_generator:\n",
    "        # Transfer to GPU (nope later...)\n",
    "        #local_batch, local_labels = local_batch.to(device), local_labels.to(device)\n",
    "        output, loss, correct_guess, wrong_guess  = test(local_batch, local_labels)\n",
    "        test_loss +=loss\n",
    "        \n",
    "        correct_guess_test += correct_guess\n",
    "        wrong_guess_test += wrong_guess\n",
    "        \n",
    "\n",
    "    if epoch % print_every == 0:\n",
    "        accuracy = correct_guess_test/(correct_guess_test+wrong_guess_test)\n",
    "        print('%s (%d %d%%) test, loss : %.4f, accuracy : %.4f%%' % (timeSince(start), epoch, epoch / max_epochs * 100, loss, accuracy*100))\n",
    "\n",
    "    if epoch % plot_every == 0:\n",
    "        accuracy = correct_guess_test/(correct_guess_test+wrong_guess_test)\n",
    "        test_losses.append(test_loss / (plot_every ))\n",
    "        accuracy_test.append(accuracy)\n",
    "        test_loss = 0\n",
    "        correct_guess_test, wrong_guess_test = 0, 0\n",
    "\n"
   ]
  },
  {
   "cell_type": "code",
   "execution_count": 13,
   "metadata": {},
   "outputs": [
    {
     "name": "stdout",
     "output_type": "stream",
     "text": [
      "Loss :\n"
     ]
    },
    {
     "data": {
      "image/png": "[encoded data removed]",
      "text/plain": [
       "<Figure size 432x288 with 1 Axes>"
      ]
     },
     "metadata": {},
     "output_type": "display_data"
    },
    {
     "name": "stdout",
     "output_type": "stream",
     "text": [
      "Accuracy :\n"
     ]
    },
    {
     "data": {
      "image/png": "[encoded data removed]",
      "text/plain": [
       "<Figure size 432x288 with 1 Axes>"
      ]
     },
     "metadata": {},
     "output_type": "display_data"
    }
   ],
   "source": [
    "print(\"Loss :\")\n",
    "plt.figure()\n",
    "plt.plot(all_losses, label=\"train\")\n",
    "plt.legend(loc='upper right', frameon=False)\n",
    "#plt.show()\n",
    "plt.plot(test_losses, label=\"test\")\n",
    "plt.legend(loc='upper right', frameon=False)\n",
    "plt.show()\n",
    "\n",
    "print(\"Accuracy :\")\n",
    "plt.figure()\n",
    "plt.plot(accuracy_train, label=\"train\")\n",
    "plt.legend(loc='upper right', frameon=False)\n",
    "#plt.show()\n",
    "plt.plot(accuracy_test, label=\"test\")\n",
    "plt.legend(loc='upper right', frameon=False)\n",
    "plt.show()"
   ]
  },
  {
   "cell_type": "code",
   "execution_count": 16,
   "metadata": {},
   "outputs": [],
   "source": [
    "#test_sequence = [\"C:maj\",\"F:maj\",\"C:maj\",\"C:maj\",\"F:maj\",\"F:maj\",\"C:maj\",\"C:maj\",\"G:maj\",\"F:maj\",\"C:maj\",\"G:maj\",\"C:maj\",\"C:maj\",\"F:maj\",\"C:maj\"]\n",
    "\n",
    "test_sequence = [\"C:maj\",\"C:maj\",\"C:maj\",\"C:maj\",\"F:maj\",\"F:maj\",\"F:maj\",\"F:maj\",\n",
    "                \"C:maj\",\"C:maj\",\"C:maj\",\"C:maj\",\"C:maj\",\"C:maj\",\"C:maj\",\"C:maj\",\n",
    "                \"F:maj\",\"F:maj\",\"F:maj\",\"F:maj\",\"F:maj\",\"F:maj\",\"F:maj\",\"F:maj\",\n",
    "                \"C:maj\",\"C:maj\",\"C:maj\",\"C:maj\",\"C:maj\",\"C:maj\",\"C:maj\",\"C:maj\",\n",
    "                \"G:maj\",\"G:maj\",\"G:maj\",\"G:maj\",\"F:maj\",\"F:maj\",\"F:maj\",\"F:maj\",\n",
    "                \"C:maj\",\"C:maj\",\"C:maj\",\"C:maj\",\"G:maj\",\"G:maj\",\"G:maj\",\"G:maj\",]\n",
    "\n",
    "test_sequence_tensor = torch.zeros(1, len(test_sequence), len(dictChord)).to(device)\n",
    "for t in range(len(test_sequence)):\n",
    "    test_sequence_tensor[0, t, dictChord[test_sequence[t]]] = 1\n",
    "\n"
   ]
  },
  {
   "cell_type": "code",
   "execution_count": 17,
   "metadata": {},
   "outputs": [
    {
     "name": "stdout",
     "output_type": "stream",
     "text": [
      "['C:maj', 'C:maj', 'C:maj', 'C:maj']\n",
      "['F:maj', 'F:maj', 'F:maj', 'F:maj']\n",
      "['C:maj', 'C:maj', 'C:maj', 'C:maj']\n",
      "['C:maj', 'C:maj', 'C:maj', 'C:maj']\n",
      "['F:maj', 'F:maj', 'F:maj', 'F:maj']\n",
      "['F:maj', 'F:maj', 'F:maj', 'F:maj']\n",
      "['C:maj', 'C:maj', 'C:maj', 'C:maj']\n",
      "['C:maj', 'C:maj', 'C:maj', 'C:maj']\n",
      "['G:maj', 'G:maj', 'G:maj', 'G:maj']\n",
      "['F:maj', 'F:maj', 'F:maj', 'F:maj']\n",
      "['C:maj', 'C:maj', 'C:maj', 'C:maj']\n",
      "['G:maj', 'G:maj', 'G:maj', 'G:maj']\n",
      "generated :\n",
      "['G:7', 'G:7', 'G:7', 'G:7']\n",
      "['C:maj', 'C:maj', 'C:maj', 'C:maj']\n",
      "['G:7', 'G:7', 'C:maj', 'C:maj']\n",
      "['G:7', 'G:7', 'G:7', 'G:7']\n",
      "['C:maj', 'G:7', 'G:7', 'C:maj']\n",
      "['C:maj', 'C:maj', 'G:7', 'G:7']\n",
      "['G:7', 'G:7', 'C:maj', 'C:maj']\n",
      "['G:7', 'G:7', 'G:7', 'C:maj']\n",
      "['C:maj', 'G:7', 'G:7', 'C:maj']\n",
      "['G:7', 'G:7', 'C:maj', 'G:7']\n",
      "['G:7', 'C:maj', 'C:maj', 'G:7']\n",
      "['C:maj', 'C:maj', 'G:7', 'C:maj']\n",
      "['C:maj', 'G:7', 'G:7', 'G:7']\n",
      "['G:7', 'G:7', 'C:maj', 'G:7']\n",
      "['C:maj', 'G:7', 'G:7', 'C:maj']\n",
      "['G:7', 'G:7', 'G:7', 'C:maj']\n",
      "['G:7', 'C:maj', 'G:7', 'G:7']\n",
      "['C:maj', 'G:7', 'C:maj', 'C:maj']\n"
     ]
    }
   ],
   "source": [
    "generation_lenght = 120\n",
    "\n",
    "generated_sequence = [0 for i in range(generation_lenght)]\n",
    "generated_sequence[0:lenSeq] = test_sequence\n",
    "\n",
    "\n",
    "\n",
    "for t in range(generation_lenght-lenSeq):\n",
    "    if t == 0:\n",
    "        output, (hidden, cell_state) = lstm_nn(test_sequence_tensor)\n",
    "        generated_sequence[t+lenSeq] = listChord[torch.argmax(output[0,-1]).item()]\n",
    "        \n",
    "    else : \n",
    "        last_chords_output = torch.zeros(1, lenSeq, len(dictChord)).to(device)\n",
    "        for i in range(lenSeq):\n",
    "            last_chords_output[0, i, torch.argmax(output[0][-1]).item()] = 1\n",
    "        #last_chords_output = torch.tensor([[torch.argmax(output[0][i]).item() for i in range(lenSeq)]])\n",
    "        last_chords_output.to(device)\n",
    "\n",
    "        \n",
    "        output, (hidden, cell_state) = lstm_nn(last_chords_output, (hidden, cell_state))\n",
    "        generated_sequence[t+lenSeq] = listChord[torch.argmax(output[0][-1]).item()]\n",
    "\n",
    "        \n",
    "for i in range(generation_lenght):\n",
    "    if i%4 == 0:\n",
    "        print(generated_sequence[i:i+4])\n",
    "    if i == lenSeq-1 :\n",
    "        print(\"generated :\")"
   ]
  },
  {
   "cell_type": "code",
   "execution_count": null,
   "metadata": {},
   "outputs": [],
   "source": []
  },
  {
   "cell_type": "code",
   "execution_count": null,
   "metadata": {},
   "outputs": [],
   "source": []
  }
 ],
 "metadata": {
  "kernelspec": {
   "display_name": "Python 3",
   "language": "python",
   "name": "python3"
  },
  "language_info": {
   "codemirror_mode": {
    "name": "ipython",
    "version": 3
   },
   "file_extension": ".py",
   "mimetype": "text/x-python",
   "name": "python",
   "nbconvert_exporter": "python",
   "pygments_lexer": "ipython3",
   "version": "3.6.5"
  }
 },
 "nbformat": 4,
 "nbformat_minor": 2
}

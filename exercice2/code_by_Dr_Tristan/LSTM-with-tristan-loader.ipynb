{
 "cells": [
  {
   "cell_type": "code",
   "execution_count": 108,
   "metadata": {},
   "outputs": [],
   "source": [
    "import torch\n",
    "from random import randint\n",
    "from utilities import chordUtil\n",
    "from utilities import dataImport\n",
    "from utilities.chordUtil import *\n",
    "from utilities.dataImport import *\n",
    "from sklearn.model_selection import train_test_split\n",
    "import os\n",
    "import numpy as np\n",
    "import random\n",
    "import sys\n",
    "import torch.nn as nn\n",
    "import time\n",
    "import math\n",
    "import matplotlib.pyplot as plt\n",
    "import matplotlib.ticker as ticker"
   ]
  },
  {
   "cell_type": "code",
   "execution_count": 109,
   "metadata": {},
   "outputs": [],
   "source": [
    "def timeSince(since):\n",
    "    now = time.time()\n",
    "    s = now - since\n",
    "    m = math.floor(s / 60)\n",
    "    s -= m * 60\n",
    "    return '%dm %ds' % (m, s)"
   ]
  },
  {
   "cell_type": "code",
   "execution_count": 110,
   "metadata": {},
   "outputs": [
    {
     "name": "stdout",
     "output_type": "stream",
     "text": [
      "use_cuda\n",
      "False\n"
     ]
    }
   ],
   "source": [
    "# CUDA for PyTorch\n",
    "use_cuda = torch.cuda.is_available()\n",
    "print(\"use_cuda\")\n",
    "print(use_cuda)\n",
    "device = torch.device(\"cuda:0\" if use_cuda else \"cpu\")"
   ]
  },
  {
   "cell_type": "code",
   "execution_count": 111,
   "metadata": {},
   "outputs": [
    {
     "name": "stdout",
     "output_type": "stream",
     "text": [
      "37\n",
      "{'C:min': 0, 'A:dim': 1, 'G:maj': 2, 'C#:maj': 3, 'C#:min': 4, 'A:min': 5, 'E:maj': 6, 'D#:maj': 7, 'D:maj': 8, 'F#:maj': 9, 'F#:min': 10, 'E:min': 11, 'N': 12, 'G:min': 13, 'F:maj': 14, 'A:maj': 15, 'B:min': 16, 'E:dim': 17, 'A#:min': 18, 'F:min': 19, 'G#:maj': 20, 'G#:min': 21, 'B:maj': 22, 'A#:maj': 23, 'B:dim': 24, 'D:min': 25, 'G:dim': 26, 'D#:min': 27, 'D:dim': 28, 'D#:dim': 29, 'C:maj': 30, 'F#:dim': 31, 'F:dim': 32, 'A#:dim': 33, 'G#:dim': 34, 'C#:dim': 35, 'C:dim': 36}\n"
     ]
    }
   ],
   "source": [
    "# Init\n",
    "lenSeq = 16\n",
    "alpha = 'a1'\n",
    "rootname = \"inputs/jazz_xlab/\"\n",
    "filenames = os.listdir(rootname)\n",
    "#filenames.remove(\".DS_Store\")\n",
    "dictChord, listChord = chordUtil.getDictChord(eval(alpha))\n",
    "print(len(dictChord))\n",
    "print(dictChord)"
   ]
  },
  {
   "cell_type": "code",
   "execution_count": 112,
   "metadata": {},
   "outputs": [],
   "source": [
    "# Create datasets\n",
    "files_train ,files_test = train_test_split(filenames,test_size=0.7)\n",
    "dataset_train = dataImport.ChordSeqDataset(files_train, rootname, alpha, dictChord, lenSeq)\n",
    "dataset_test = dataImport.ChordSeqDataset(files_test, rootname, alpha, dictChord, lenSeq)\n"
   ]
  },
  {
   "cell_type": "code",
   "execution_count": 113,
   "metadata": {},
   "outputs": [],
   "source": [
    "# Create generators\n",
    "params = {'batch_size': 64,\n",
    "          'shuffle': True,\n",
    "          'num_workers': 6}\n",
    "training_generator = data.DataLoader(dataset_train, **params)\n",
    "testing_generator = data.DataLoader(dataset_test, **params)\n"
   ]
  },
  {
   "cell_type": "code",
   "execution_count": 114,
   "metadata": {},
   "outputs": [],
   "source": [
    "def train(local_batch, local_labels):\n",
    "\n",
    "    optimizer.zero_grad()\n",
    "    loss = 0\n",
    "\n",
    "    local_labels = torch.tensor([torch.argmax(local_label) for local_label in local_labels])\n",
    "\n",
    "    \n",
    "    \n",
    "    output, (hidden, cell_state) = lstm_nn(local_batch)\n",
    "\n",
    "    output = output[:,-1,:]\n",
    "    loss = criterion(output, local_labels)\n",
    "    loss.backward()\n",
    "    optimizer.step()\n",
    "\n",
    "\n",
    "    return output, loss.item() / len(local_batch)"
   ]
  },
  {
   "cell_type": "code",
   "execution_count": 115,
   "metadata": {},
   "outputs": [
    {
     "name": "stderr",
     "output_type": "stream",
     "text": [
      "/home/valentinbilot/.pyenv/versions/anaconda3-5.2.0/lib/python3.6/site-packages/torch/nn/modules/rnn.py:38: UserWarning: dropout option adds dropout after all but last recurrent layer, so non-zero dropout expects num_layers greater than 1, but got dropout=0.1 and num_layers=1\n",
      "  \"num_layers={}\".format(dropout, num_layers))\n"
     ]
    },
    {
     "name": "stdout",
     "output_type": "stream",
     "text": [
      "0m 4s (10 2%) -0.0004\n",
      "0m 9s (20 4%) -0.0003\n",
      "0m 14s (30 6%) 0.0003\n",
      "0m 19s (40 8%) -0.0021\n",
      "0m 23s (50 10%) -0.0031\n",
      "0m 28s (60 12%) -0.0027\n",
      "0m 32s (70 14%) -0.0020\n",
      "0m 37s (80 16%) -0.0036\n",
      "0m 42s (90 18%) -0.0022\n",
      "0m 46s (100 20%) -0.0041\n",
      "0m 51s (110 22%) -0.0041\n",
      "0m 56s (120 24%) -0.0038\n",
      "1m 0s (130 26%) -0.0044\n",
      "1m 5s (140 28%) -0.0049\n",
      "1m 9s (150 30%) -0.0049\n",
      "1m 14s (160 32%) -0.0055\n",
      "1m 19s (170 34%) -0.0041\n",
      "1m 23s (180 36%) -0.0053\n",
      "1m 28s (190 38%) -0.0081\n",
      "1m 32s (200 40%) -0.0057\n",
      "1m 37s (210 42%) -0.0058\n",
      "1m 42s (220 44%) -0.0059\n",
      "1m 47s (230 46%) -0.0070\n",
      "1m 51s (240 48%) -0.0047\n",
      "1m 56s (250 50%) -0.0063\n",
      "2m 0s (260 52%) -0.0063\n",
      "2m 5s (270 54%) -0.0067\n",
      "2m 10s (280 56%) -0.0067\n",
      "2m 15s (290 57%) -0.0083\n",
      "2m 19s (300 60%) -0.0063\n",
      "2m 24s (310 62%) -0.0061\n",
      "2m 28s (320 64%) -0.0102\n",
      "2m 33s (330 66%) -0.0096\n",
      "2m 38s (340 68%) -0.0087\n",
      "2m 42s (350 70%) -0.0086\n",
      "2m 47s (360 72%) -0.0085\n",
      "2m 52s (370 74%) -0.0099\n",
      "2m 57s (380 76%) -0.0096\n",
      "3m 2s (390 78%) -0.0069\n",
      "3m 7s (400 80%) -0.0107\n",
      "3m 12s (410 82%) -0.0097\n",
      "3m 16s (420 84%) -0.0100\n",
      "3m 20s (430 86%) -0.0101\n",
      "3m 25s (440 88%) -0.0092\n",
      "3m 29s (450 90%) -0.0081\n",
      "3m 34s (460 92%) -0.0134\n",
      "3m 39s (470 94%) -0.0119\n",
      "3m 43s (480 96%) -0.0128\n",
      "3m 48s (490 98%) -0.0109\n"
     ]
    }
   ],
   "source": [
    "lstm_nn = nn.LSTM(len(dictChord), len(dictChord), batch_first = True, dropout = 0.1)\n",
    "\n",
    "plot_every = 5\n",
    "all_losses = []\n",
    "total_loss = 0 # Reset every plot_every iters\n",
    "start = time.time()\n",
    "optimizer = torch.optim.SGD(lstm_nn.parameters(), lr = 0.0001, momentum=0.9)\n",
    "#criterion = nn.CrossEntropyLoss()\n",
    "criterion = nn.NLLLoss()\n",
    "#learning_rate = 0.0005\n",
    "print_every = 10\n",
    "max_epochs = 500\n",
    "\n",
    "\n",
    "# Begin training\n",
    "\n",
    "for epoch in range(1, max_epochs):\n",
    "    # Training\n",
    "    for local_batch, local_labels in training_generator:\n",
    "        # Transfer to GPU\n",
    "        local_batch, local_labels = local_batch.to(device), local_labels.to(device)\n",
    "        \n",
    "        output, loss = train(local_batch, local_labels)\n",
    "        total_loss += loss\n",
    "\n",
    "    if epoch % print_every == 0:\n",
    "        print('%s (%d %d%%) %.4f' % (timeSince(start), epoch, epoch / max_epochs * 100, loss))\n",
    "\n",
    "    if epoch % plot_every == 0:\n",
    "        all_losses.append(total_loss / (plot_every * len(local_batch)))\n",
    "        total_loss = 0\n",
    "        \n",
    "\n",
    "    # Testing\n",
    "    #for local_batch, local_labels in testing_generator:\n",
    "        # Transfer to GPU\n",
    "        #local_batch, local_labels = local_batch.to(device), local_labels.to(device)\n",
    "\n",
    "        # //// Test the model  ////"
   ]
  },
  {
   "cell_type": "code",
   "execution_count": 116,
   "metadata": {},
   "outputs": [
    {
     "data": {
      "image/png": "[encoded data removed]",
      "text/plain": [
       "<Figure size 432x288 with 1 Axes>"
      ]
     },
     "metadata": {},
     "output_type": "display_data"
    }
   ],
   "source": [
    "plt.figure()\n",
    "plt.plot(all_losses)\n",
    "plt.show()"
   ]
  },
  {
   "cell_type": "code",
   "execution_count": 117,
   "metadata": {},
   "outputs": [],
   "source": [
    "test_sequence = [\"C:maj\",\"F:maj\",\"C:maj\",\"C:maj\",\"F:maj\",\"F:maj\",\"C:maj\",\"C:maj\",\"G:maj\",\"F:maj\",\"C:maj\",\"G:maj\",\"C:maj\",\"C:maj\",\"F:maj\",\"C:maj\"]\n",
    "\n",
    "test_sequence_tensor = torch.zeros(1, len(test_sequence), len(dictChord))\n",
    "for t in range(len(test_sequence)):\n",
    "    test_sequence_tensor[0, t, dictChord[test_sequence[t]]] = 1\n"
   ]
  },
  {
   "cell_type": "code",
   "execution_count": 118,
   "metadata": {},
   "outputs": [
    {
     "name": "stdout",
     "output_type": "stream",
     "text": [
      "['C:maj', 'F:maj', 'C:maj', 'C:maj', 'F:maj', 'F:maj', 'C:maj', 'C:maj']\n",
      "['G:maj', 'F:maj', 'C:maj', 'G:maj', 'C:maj', 'C:maj', 'F:maj', 'C:maj']\n",
      "['F:maj', 'F:maj', 'F:maj', 'F:maj', 'F:maj', 'F:maj', 'F:maj', 'F:maj']\n",
      "['F:maj', 'F:maj', 'F:maj', 'F:maj', 'F:maj', 'F:maj', 'F:maj', 'F:maj']\n",
      "['F:maj', 'F:maj', 'F:maj', 'F:maj', 'F:maj', 'F:maj', 'F:maj', 'F:maj']\n",
      "['F:maj', 'F:maj', 'F:maj', 'F:maj', 'F:maj', 'F:maj', 'F:maj', 'F:maj']\n",
      "['F:maj', 'F:maj', 'F:maj', 'F:maj', 'F:maj', 'F:maj', 'F:maj', 'F:maj']\n",
      "['F:maj', 'F:maj', 'F:maj', 'F:maj', 'F:maj', 'F:maj', 'F:maj', 'F:maj']\n",
      "['F:maj', 'F:maj', 'F:maj', 'F:maj', 'F:maj', 'F:maj', 'F:maj', 'F:maj']\n",
      "['F:maj', 'F:maj', 'F:maj', 'F:maj', 'F:maj', 'F:maj', 'F:maj', 'F:maj']\n",
      "['F:maj', 'F:maj', 'F:maj', 'F:maj', 'F:maj', 'F:maj', 'F:maj', 'F:maj']\n",
      "['F:maj', 'F:maj', 'F:maj', 'F:maj', 'F:maj', 'F:maj', 'F:maj', 'F:maj']\n",
      "['F:maj', 'F:maj', 'F:maj', 'F:maj', 'F:maj', 'F:maj', 'F:maj', 'F:maj']\n",
      "['F:maj', 'F:maj', 'F:maj', 'F:maj', 'F:maj', 'F:maj', 'F:maj', 'F:maj']\n",
      "['F:maj', 'F:maj', 'F:maj', 'F:maj', 'F:maj', 'F:maj', 'F:maj', 'F:maj']\n"
     ]
    }
   ],
   "source": [
    "generation_lenght = 120\n",
    "\n",
    "generated_sequence = [0 for i in range(generation_lenght)]\n",
    "generated_sequence[0:lenSeq] = test_sequence\n",
    "\n",
    "for t in range(generation_lenght-lenSeq):\n",
    "    if t == 0:\n",
    "        output, (hidden, cell_state) = lstm_nn(test_sequence_tensor)\n",
    "        generated_sequence[t+lenSeq] = listChord[torch.argmax(output[0,-1]).item()]\n",
    "        \n",
    "    else : \n",
    "        last_chords_output = torch.zeros(1, lenSeq, len(dictChord))\n",
    "        for i in range(lenSeq):\n",
    "            last_chords_output[0, i, torch.argmax(output[0][-1]).item()] = 1\n",
    "        #last_chords_output = torch.tensor([[torch.argmax(output[0][i]).item() for i in range(lenSeq)]])\n",
    "        output, (hidden, cell_state) = lstm_nn(last_chords_output, (hidden, cell_state))\n",
    "        generated_sequence[t+lenSeq] = listChord[torch.argmax(output[0][-1]).item()]\n",
    "\n",
    "        \n",
    "for i in range(generation_lenght):\n",
    "    if i%8 == 0:\n",
    "        print(generated_sequence[i:i+8])"
   ]
  },
  {
   "cell_type": "code",
   "execution_count": null,
   "metadata": {},
   "outputs": [],
   "source": []
  },
  {
   "cell_type": "code",
   "execution_count": null,
   "metadata": {},
   "outputs": [],
   "source": []
  }
 ],
 "metadata": {
  "kernelspec": {
   "display_name": "Python 3",
   "language": "python",
   "name": "python3"
  },
  "language_info": {
   "codemirror_mode": {
    "name": "ipython",
    "version": 3
   },
   "file_extension": ".py",
   "mimetype": "text/x-python",
   "name": "python",
   "nbconvert_exporter": "python",
   "pygments_lexer": "ipython3",
   "version": "3.6.5"
  }
 },
 "nbformat": 4,
 "nbformat_minor": 2
}

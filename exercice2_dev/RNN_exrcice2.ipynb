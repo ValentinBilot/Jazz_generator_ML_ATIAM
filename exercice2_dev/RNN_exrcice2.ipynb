{
    "cells": [
        {
            "cell_type": "markdown",
            "metadata": {},
            "source": [
                "# Implémentation d'un RNN pour générer des accords appris sur le realbook.\n",
                "## Implémentation en pytorch à partir de l'implémentation en Keras proposée par keunwoochoi\n",
                "Github du projet de référence https://github.com/keunwoochoi/lstm_real_book"
            ]
        },
        {
            "cell_type": "markdown",
            "metadata": {},
            "source": [
                "# Importation des librairies utiles :"
            ]
        },
        {
            "cell_type": "code",
            "execution_count": 1,
            "metadata": {},
            "outputs": [],
            "source": [
                "import numpy as np\n",
                "import random\n",
                "import sys\n",
                "import torch\n",
                "import torch.nn as nn\n",
                "import time\n",
                "import math\n",
                "import matplotlib.pyplot as plt\n",
                "import matplotlib.ticker as ticker"
            ]
        },
        {
            "cell_type": "markdown",
            "metadata": {},
            "source": [
                "# Définition d'une petite fonction utile :"
            ]
        },
        {
            "cell_type": "code",
            "execution_count": 2,
            "metadata": {},
            "outputs": [],
            "source": [
                "def timeSince(since):\n",
                "    now = time.time()\n",
                "    s = now - since\n",
                "    m = math.floor(s / 60)\n",
                "    s -= m * 60\n",
                "    return '%dm %ds' % (m, s)"
            ]
        },
        {
            "cell_type": "markdown",
            "metadata": {},
            "source": [
                "# Création de l'objet RNN :"
            ]
        },
        {
            "cell_type": "code",
            "execution_count": 3,
            "metadata": {},
            "outputs": [],
            "source": [
                "class RNN(nn.Module):\n",
                "    def __init__(self, input_size, hidden_size, output_size):\n",
                "        super(RNN, self).__init__()\n",
                "        self.hidden_size = hidden_size\n",
                "        self.i2h = nn.Linear(input_size + hidden_size, hidden_size)\n",
                "        self.i2o = nn.Linear(input_size + hidden_size, output_size)\n",
                "        self.o2o = nn.Linear(hidden_size + output_size, output_size)\n",
                "        self.dropout = nn.Dropout(0.1)\n",
                "        self.softmax = nn.LogSoftmax(dim=1)\n",
                "\n",
                "    def forward(self, input, hidden):\n",
                "        input_combined = torch.cat((input, hidden), 1)\n",
                "        hidden = self.i2h(input_combined)\n",
                "        output = self.i2o(input_combined)\n",
                "        output_combined = torch.cat((hidden, output), 1)\n",
                "        output = self.o2o(output_combined)\n",
                "        output = self.dropout(output)\n",
                "        output = self.softmax(output)\n",
                "        return output, hidden\n",
                "\n",
                "    def initHidden(self):\n",
                "        return torch.zeros(1, self.hidden_size)"
            ]
        },
        {
            "cell_type": "markdown",
            "metadata": {},
            "source": [
                "# Importation de la base de données :"
            ]
        },
        {
            "cell_type": "code",
            "execution_count": 4,
            "metadata": {},
            "outputs": [
                {
                    "name": "stdout",
                    "output_type": "stream",
                    "text": [
                        "corpus length: 3531261\n",
                        "total chars: 1260\n"
                    ]
                }
            ],
            "source": [
                "path = 'chord_sentences.txt' # the txt data source\n",
                "text = open(path).read()\n",
                "print('corpus length:', len(text))\n",
                "\n",
                "chord_seq = text.split(' ')\n",
                "chars = set(chord_seq)\n",
                "text = chord_seq\n",
                "\n",
                "\n",
                "# Création de dictionnaires contenants les noms\n",
                "# des accords contenus dans le realbook\n",
                "\n",
                "char_indices = dict((c, i) for i, c in enumerate(chars))\n",
                "indices_char = dict((i, c) for i, c in enumerate(chars))\n",
                "num_chars = len(char_indices)\n",
                "print('total chars:', num_chars)"
            ]
        },
        {
            "cell_type": "markdown",
            "metadata": {},
            "source": [
                "# Coup d'oeil sur la structure de la base de données : \n",
                "Les morceaux sont repérés par des \"_START_\" et des \"_END_\"\n",
                "\n",
                "Voyez plutôt :"
            ]
        },
        {
            "cell_type": "code",
            "execution_count": 5,
            "metadata": {},
            "outputs": [
                {
                    "name": "stdout",
                    "output_type": "stream",
                    "text": [
                        "['_START_', 'C:maj', 'C:maj', 'C:maj', 'C:maj', 'C:maj', 'C:maj', 'C:maj', 'C:maj', 'G:9', 'G:9', 'G:9', 'G:9', 'G:9', 'G:9', 'G:9', 'G:9', 'C:9', 'C:9', 'C:9', 'C:9', 'C:7', 'C:7', 'C:7', 'C:7', 'F:maj', 'F:maj', 'F:maj', 'F:maj', 'F:min7', 'F:min7', 'F:min7', 'F:min7', 'C:maj', 'C:maj', 'C:maj', 'C:maj', 'G:min7', 'G:min7', 'G:min7', 'G:min7', 'A:7', 'A:7', 'A:7', 'A:7', 'D:9', 'D:9', 'D:9', 'D:9', 'G:9', 'G:9', 'G:9', 'G:9', 'E:min7', 'E:min7', 'G:7', 'G:7', 'C:maj', 'C:maj', 'C:maj', 'C:maj', 'C:maj', 'C:maj', 'C:maj', 'C:maj', 'A:min7', 'A:min7', 'A:min7', 'A:min7', 'A:min7', 'A:min7', 'A:min7', 'A:min7', 'E:min7', 'E:min7', 'E:min7', 'E:min7', 'E:min7', 'E:min7', 'E:min7', 'E:min7', 'F:maj7', 'F:maj7', 'F:maj7', 'F:maj7', 'F:7', 'F:7', 'F:7', 'F:7', 'C:maj', 'C:maj', 'C:maj', 'C:maj', 'C:maj', 'C:maj', 'C:7', 'C:7', 'F:maj', 'F:maj', 'F:maj', 'F:maj', 'F:min7', 'F:min7', 'F:min7', 'F:min7', 'C:maj', 'C:maj', 'C:maj', 'C:maj', 'A:7', 'A:7', 'A:7', 'A:7', 'D:7', 'D:7', 'D:7', 'D:7', 'D:7', 'D:7', 'G:7', 'G:7', 'C:maj', 'C:maj', 'C:maj', 'C:maj', 'C:maj', 'C:maj', 'G:7', 'G:7', '_END_', '_START_', 'D#:maj', 'D#:maj', 'D#:maj', 'D#:maj', 'D#:maj', 'D#:maj', 'A#:7', 'A#:7', 'D#:maj', 'D#:maj', 'D#:maj', 'D#:maj', 'G:min', 'G:min', 'G:min', 'G:min', 'D#:maj', 'D#:maj', 'D#:maj', 'D#:maj', 'D#:maj', 'D#:maj', 'A#:7', 'A#:7', 'D#:maj', 'D#:maj', 'D#:maj', 'D#:maj', 'B:7', 'B:7', 'A#:7', 'A#:7', 'D#:maj', 'D#:maj', 'D#:maj', 'D#:maj', 'D#:maj', 'D#:maj', 'A#:7', 'A#:7', 'D#:maj', 'D#:maj', 'D#:maj', 'D#:maj', 'D#:7', 'D#:7', 'D#:7', 'D#:7', 'G:maj/5', 'G:maj/5', 'G:maj/5', 'G:maj/5', 'G:maj/5', 'G:maj/5', 'D:7', 'D:7', 'G:maj', 'G:maj', 'G:maj', 'G:maj', 'A#:7/5', 'A#:7/5', 'A#:7/5', 'A#:7/5', 'D#:7', 'D#:7', 'D#:7', 'D#:7', 'D#:7']\n"
                    ]
                }
            ],
            "source": [
                "#Affichage du début de la base de données\n",
                "print(text[0:200])"
            ]
        },
        {
            "cell_type": "markdown",
            "metadata": {},
            "source": [
                "# Pour bien comprendre :"
            ]
        },
        {
            "cell_type": "code",
            "execution_count": 6,
            "metadata": {},
            "outputs": [
                {
                    "name": "stdout",
                    "output_type": "stream",
                    "text": [
                        "1008\n",
                        "A:min/6\n",
                        "599\n",
                        "C#:7(b5,*5,b9)\n",
                        "1077\n",
                        "G:maj(2,*3)/5\n"
                    ]
                }
            ],
            "source": [
                "print(char_indices[\"C:maj\"])\n",
                "print(indices_char[669])\n",
                "\n",
                "# Ici les indications START et END sont considérés comme des accords\n",
                "# Nous devrions peut être changer cela\n",
                "\n",
                "print(char_indices[\"_START_\"])\n",
                "print(indices_char[1195])\n",
                "print(char_indices[\"_END_\"])\n",
                "print(indices_char[825])"
            ]
        },
        {
            "cell_type": "markdown",
            "metadata": {},
            "source": [
                "# Déoupe de la bases de données :\n",
                "On crée ici une liste qui contient des exemples de suite d'accords dont on va se servir pour créer nos vecteurs qui serviront à feed le RNN. \n",
                "Pourquoi ils sont découpés comme ça et pas par morceau ? Je ne sais pas, ça me parait bizare, peut être qu'il faudrait qu'on découpe par morceaux plutôt que de couper en 20."
            ]
        },
        {
            "cell_type": "code",
            "execution_count": 7,
            "metadata": {},
            "outputs": [
                {
                    "name": "stdout",
                    "output_type": "stream",
                    "text": [
                        "nb sequences: 181761\n"
                    ]
                }
            ],
            "source": [
                "# cut the text in semi-redundant sequences of maxlen characters\n",
                "maxlen = 20\n",
                "step = 3\n",
                "sentences = []\n",
                "for i in range(0, len(text) - maxlen, step):\n",
                "\tsentences.append(text[i: i + maxlen])\n",
                "print('nb sequences:', len(sentences))"
            ]
        },
        {
            "cell_type": "markdown",
            "metadata": {},
            "source": [
                "# Transformation des exemples en vecteurs pour les utiliser en entrées et sorties du RNN."
            ]
        },
        {
            "cell_type": "code",
            "execution_count": 8,
            "metadata": {},
            "outputs": [
                {
                    "name": "stdout",
                    "output_type": "stream",
                    "text": [
                        "Vectorization...\n",
                        "done\n",
                        "X.size() : \n",
                        "torch.Size([10000, 20, 1, 1260])\n",
                        "Y.size() : \n",
                        "torch.Size([10000, 20, 1])\n"
                    ]
                }
            ],
            "source": [
                "def vectorize(sentences,maxlen,num_chars,char_indices):\n",
                "    #limiting the dataset size to do fast exemples \n",
                "    max_dataset_lenght = 10000\n",
                "    print('Vectorization...')\n",
                "    len_dataset = min(max_dataset_lenght, len(sentences))\n",
                "    X = torch.zeros(len_dataset, maxlen, 1, num_chars)\n",
                "    Y = torch.zeros((len_dataset, maxlen, 1),dtype = torch.long)\n",
                "    for i, sentence in enumerate(sentences[0:len_dataset]):\n",
                "        for t, char in enumerate(sentence[0:len_dataset]):\n",
                "            X[i, t, 0, char_indices[char]] = 1\n",
                "            Y[i, t, 0] = char_indices[char]\n",
                "    print(\"done\")\n",
                "    print(\"X.size() : \")\n",
                "    print(X.size())\n",
                "    print(\"Y.size() : \")\n",
                "    print(Y.size())\n",
                "    return X, Y\n",
                "\n",
                "\n",
                "# text to vectors\n",
                "X, Y = vectorize(sentences,maxlen,num_chars,char_indices)"
            ]
        },
        {
            "cell_type": "markdown",
            "metadata": {},
            "source": [
                "# Création de la fonction train du réseau :"
            ]
        },
        {
            "cell_type": "code",
            "execution_count": 11,
            "metadata": {},
            "outputs": [],
            "source": [
                "def train(X_in,Y_out):\n",
                "    #target_line_tensor.unsqueeze_(-1)\n",
                "    hidden = rnn.initHidden()\n",
                "\n",
                "    rnn.zero_grad()\n",
                "\n",
                "    loss = 0\n",
                "\n",
                "    for i in range(len(X_in) - 1):\n",
                "        output, hidden = rnn(X_in[i], hidden)\n",
                "        l = criterion(output, Y_out[i+1])\n",
                "        loss += l\n",
                "\n",
                "    loss.backward()\n",
                "\n",
                "    for p in rnn.parameters():\n",
                "        p.data.add_(-learning_rate, p.grad.data)\n",
                "\n",
                "    return output, loss.item() / X.size(0)"
            ]
        },
        {
            "cell_type": "markdown",
            "metadata": {},
            "source": [
                "# Création du réseau et définition de la boucle d'entraînement :"
            ]
        },
        {
            "cell_type": "code",
            "execution_count": 12,
            "metadata": {},
            "outputs": [
                {
                    "name": "stdout",
                    "output_type": "stream",
                    "text": [
                        "Début de l'entraînement\n",
                        "0m 14s (50 1%) 0.0134\n"
                    ]
                },
                {
                    "ename": "KeyboardInterrupt",
                    "evalue": "",
                    "output_type": "error",
                    "traceback": [
                        "\u001b[0;31m---------------------------------------------------------------------------\u001b[0m",
                        "\u001b[0;31mKeyboardInterrupt\u001b[0m                         Traceback (most recent call last)",
                        "\u001b[0;32m<ipython-input-12-787e5140c2aa>\u001b[0m in \u001b[0;36m<module>\u001b[0;34m()\u001b[0m\n\u001b[1;32m     16\u001b[0m \u001b[0;32mfor\u001b[0m \u001b[0miter\u001b[0m \u001b[0;32min\u001b[0m \u001b[0mrange\u001b[0m\u001b[0;34m(\u001b[0m\u001b[0;36m1\u001b[0m\u001b[0;34m,\u001b[0m \u001b[0mn_iters\u001b[0m \u001b[0;34m+\u001b[0m \u001b[0;36m1\u001b[0m\u001b[0;34m)\u001b[0m\u001b[0;34m:\u001b[0m\u001b[0;34m\u001b[0m\u001b[0m\n\u001b[1;32m     17\u001b[0m     \u001b[0mindex_in_data\u001b[0m \u001b[0;34m=\u001b[0m \u001b[0miter\u001b[0m \u001b[0;34m%\u001b[0m \u001b[0mlen\u001b[0m\u001b[0;34m(\u001b[0m\u001b[0mX\u001b[0m\u001b[0;34m)\u001b[0m\u001b[0;34m\u001b[0m\u001b[0m\n\u001b[0;32m---> 18\u001b[0;31m     \u001b[0moutput\u001b[0m\u001b[0;34m,\u001b[0m \u001b[0mloss\u001b[0m \u001b[0;34m=\u001b[0m \u001b[0mtrain\u001b[0m\u001b[0;34m(\u001b[0m\u001b[0mX\u001b[0m\u001b[0;34m[\u001b[0m\u001b[0mindex_in_data\u001b[0m\u001b[0;34m]\u001b[0m\u001b[0;34m,\u001b[0m \u001b[0mY\u001b[0m\u001b[0;34m[\u001b[0m\u001b[0mindex_in_data\u001b[0m\u001b[0;34m]\u001b[0m\u001b[0;34m)\u001b[0m\u001b[0;34m\u001b[0m\u001b[0m\n\u001b[0m\u001b[1;32m     19\u001b[0m     \u001b[0mtotal_loss\u001b[0m \u001b[0;34m+=\u001b[0m \u001b[0mloss\u001b[0m\u001b[0;34m\u001b[0m\u001b[0m\n\u001b[1;32m     20\u001b[0m \u001b[0;34m\u001b[0m\u001b[0m\n",
                        "\u001b[0;32m<ipython-input-11-dc4481f0c4a0>\u001b[0m in \u001b[0;36mtrain\u001b[0;34m(X_in, Y_out)\u001b[0m\n\u001b[1;32m     12\u001b[0m         \u001b[0mloss\u001b[0m \u001b[0;34m+=\u001b[0m \u001b[0ml\u001b[0m\u001b[0;34m\u001b[0m\u001b[0m\n\u001b[1;32m     13\u001b[0m \u001b[0;34m\u001b[0m\u001b[0m\n\u001b[0;32m---> 14\u001b[0;31m     \u001b[0mloss\u001b[0m\u001b[0;34m.\u001b[0m\u001b[0mbackward\u001b[0m\u001b[0;34m(\u001b[0m\u001b[0;34m)\u001b[0m\u001b[0;34m\u001b[0m\u001b[0m\n\u001b[0m\u001b[1;32m     15\u001b[0m \u001b[0;34m\u001b[0m\u001b[0m\n\u001b[1;32m     16\u001b[0m     \u001b[0;32mfor\u001b[0m \u001b[0mp\u001b[0m \u001b[0;32min\u001b[0m \u001b[0mrnn\u001b[0m\u001b[0;34m.\u001b[0m\u001b[0mparameters\u001b[0m\u001b[0;34m(\u001b[0m\u001b[0;34m)\u001b[0m\u001b[0;34m:\u001b[0m\u001b[0;34m\u001b[0m\u001b[0m\n",
                        "\u001b[0;32m~/.pyenv/versions/anaconda3-5.2.0/lib/python3.6/site-packages/torch/tensor.py\u001b[0m in \u001b[0;36mbackward\u001b[0;34m(self, gradient, retain_graph, create_graph)\u001b[0m\n\u001b[1;32m     91\u001b[0m                 \u001b[0mproducts\u001b[0m\u001b[0;34m.\u001b[0m \u001b[0mDefaults\u001b[0m \u001b[0mto\u001b[0m\u001b[0;31m \u001b[0m\u001b[0;31m`\u001b[0m\u001b[0;31m`\u001b[0m\u001b[0;32mFalse\u001b[0m\u001b[0;31m`\u001b[0m\u001b[0;31m`\u001b[0m\u001b[0;34m.\u001b[0m\u001b[0;34m\u001b[0m\u001b[0m\n\u001b[1;32m     92\u001b[0m         \"\"\"\n\u001b[0;32m---> 93\u001b[0;31m         \u001b[0mtorch\u001b[0m\u001b[0;34m.\u001b[0m\u001b[0mautograd\u001b[0m\u001b[0;34m.\u001b[0m\u001b[0mbackward\u001b[0m\u001b[0;34m(\u001b[0m\u001b[0mself\u001b[0m\u001b[0;34m,\u001b[0m \u001b[0mgradient\u001b[0m\u001b[0;34m,\u001b[0m \u001b[0mretain_graph\u001b[0m\u001b[0;34m,\u001b[0m \u001b[0mcreate_graph\u001b[0m\u001b[0;34m)\u001b[0m\u001b[0;34m\u001b[0m\u001b[0m\n\u001b[0m\u001b[1;32m     94\u001b[0m \u001b[0;34m\u001b[0m\u001b[0m\n\u001b[1;32m     95\u001b[0m     \u001b[0;32mdef\u001b[0m \u001b[0mregister_hook\u001b[0m\u001b[0;34m(\u001b[0m\u001b[0mself\u001b[0m\u001b[0;34m,\u001b[0m \u001b[0mhook\u001b[0m\u001b[0;34m)\u001b[0m\u001b[0;34m:\u001b[0m\u001b[0;34m\u001b[0m\u001b[0m\n",
                        "\u001b[0;32m~/.pyenv/versions/anaconda3-5.2.0/lib/python3.6/site-packages/torch/autograd/__init__.py\u001b[0m in \u001b[0;36mbackward\u001b[0;34m(tensors, grad_tensors, retain_graph, create_graph, grad_variables)\u001b[0m\n\u001b[1;32m     88\u001b[0m     Variable._execution_engine.run_backward(\n\u001b[1;32m     89\u001b[0m         \u001b[0mtensors\u001b[0m\u001b[0;34m,\u001b[0m \u001b[0mgrad_tensors\u001b[0m\u001b[0;34m,\u001b[0m \u001b[0mretain_graph\u001b[0m\u001b[0;34m,\u001b[0m \u001b[0mcreate_graph\u001b[0m\u001b[0;34m,\u001b[0m\u001b[0;34m\u001b[0m\u001b[0m\n\u001b[0;32m---> 90\u001b[0;31m         allow_unreachable=True)  # allow_unreachable flag\n\u001b[0m\u001b[1;32m     91\u001b[0m \u001b[0;34m\u001b[0m\u001b[0m\n\u001b[1;32m     92\u001b[0m \u001b[0;34m\u001b[0m\u001b[0m\n",
                        "\u001b[0;31mKeyboardInterrupt\u001b[0m: "
                    ]
                }
            ],
            "source": [
                "rnn = RNN(num_chars, 128, num_chars)\n",
                "\n",
                "n_iters = 5000\n",
                "print_every = 50\n",
                "plot_every = 10\n",
                "all_losses = []\n",
                "total_loss = 0 # Reset every plot_every iters\n",
                "\n",
                "start = time.time()\n",
                "\n",
                "criterion = nn.NLLLoss()\n",
                "\n",
                "learning_rate = 0.0005\n",
                "\n",
                "print(\"Début de l'entraînement\")\n",
                "for iter in range(1, n_iters + 1):\n",
                "    index_in_data = iter % len(X)\n",
                "    output, loss = train(X[index_in_data], Y[index_in_data])\n",
                "    total_loss += loss\n",
                "    \n",
                "\n",
                "    if iter % print_every == 0:\n",
                "        print('%s (%d %d%%) %.4f' % (timeSince(start), iter, iter / n_iters * 100, loss))\n",
                "\n",
                "    if iter % plot_every == 0:\n",
                "        all_losses.append(total_loss / plot_every)\n",
                "        total_loss = 0"
            ]
        },
        {
            "cell_type": "markdown",
            "metadata": {},
            "source": [
                "# Plot de la fonction Loss :\n",
                "\n",
                "Bon ça converge pas de ouf, ni très vite d'ailleurs.\n",
                "\n",
                "\n",
                "Ca manque sûrement d'exemple dans la base de données. (on a tronqué à pas beaucoup comparé à la taille du fichier)\n",
                "\n",
                "\n",
                "Et les données sont présentées de manière pourrie, on devrait peut être faire des apprentissages par morceaux et pas par séquences de 20 \"accords\"."
            ]
        },
        {
            "cell_type": "code",
            "execution_count": 11,
            "metadata": {},
            "outputs": [
                {
                    "data": {
                        "image/png": "[encoded data removed]",
                        "text/plain": [
                            "<Figure size 432x288 with 1 Axes>"
                        ]
                    },
                    "metadata": {},
                    "output_type": "display_data"
                }
            ],
            "source": [
                "plt.figure()\n",
                "plt.plot(all_losses)\n",
                "plt.show()"
            ]
        },
        {
            "cell_type": "markdown",
            "metadata": {},
            "source": [
                "# Génération d'une séquence d'accords à partir d'un blues en Do majeur :\n",
                "\n",
                "## Génération de la séquence de blues :"
            ]
        },
        {
            "cell_type": "code",
            "execution_count": 12,
            "metadata": {},
            "outputs": [],
            "source": [
                "test_sequence = [\"_START_\",\"C:maj\",\"F:maj\",\"C:maj\",\"C:maj\",\"F:maj\",\"F:maj\",\"C:maj\",\"C:maj\",\"G:maj\",\"F:maj\"]\n",
                "\n",
                "test_sequence_tensor = torch.zeros(len(test_sequence), 1, num_chars)\n",
                "for t in range(len(test_sequence)):\n",
                "    test_sequence_tensor[t, 0, char_indices[test_sequence[t]]] = 1\n"
            ]
        },
        {
            "cell_type": "markdown",
            "metadata": {},
            "source": [
                "## Utilisation de la séquence pour les premiers accords puis génération par le réseau d'une éventuelle suite :\n",
                "\n",
                "Visiblement l'algo aime bien les Do7..."
            ]
        },
        {
            "cell_type": "code",
            "execution_count": 13,
            "metadata": {},
            "outputs": [
                {
                    "name": "stdout",
                    "output_type": "stream",
                    "text": [
                        "['_START_', 'C:maj', 'F:maj', 'C:maj', 'C:maj', 'F:maj', 'F:maj', 'C:maj', 'C:maj', 'G:maj', 'F:maj', 'A#:maj7', 'A#:maj7', 'A#:maj7', 'A#:maj7', 'A#:maj7', 'A#:maj7', 'A#:maj7', 'A#:maj7', 'A#:maj7', 'A#:maj7', 'A#:maj7', 'A#:maj7', 'A#:maj7', 'A#:maj7', 'A#:maj7', 'A#:maj7', 'A#:maj7', 'A#:maj7', 'C:min7', 'A#:maj7', 'C:min7', 'A#:maj7', 'A#:maj7', 'A#:maj7', 'A#:maj7', 'C:min7', 'A#:maj7', 'A#:maj7', 'A#:maj7', 'A#:maj7', 'A#:maj7', 'A#:maj7', 'C:min7', 'A#:maj7', 'A#:maj7', 'A#:maj7', 'A#:maj7', 'A#:maj7', 'A#:maj7', 'A#:maj7', 'A#:maj7', 'A#:maj7', 'A#:maj7', 'C:min7', 'A#:maj7', 'A#:maj7', 'A#:maj7', 'A#:maj7', 'A#:maj7', 'A#:maj7', 'A#:maj7', 'A#:maj7', 'C:min7', 'C:min7', 'A#:maj7', 'A#:maj7', 'A#:maj7', 'A#:maj7', 'A#:maj7', 'A#:maj7', 'A#:maj7', 'A#:maj7', 'C:min7', 'A#:maj7', 'A#:maj7', 'A#:maj7', 'A#:maj7', 'A#:maj7', 'A#:maj7', 'A#:maj7', 'A#:maj7', 'A#:maj7', 'A#:maj7', 'A#:maj7', 'A#:maj7', 'C:min7', 'A#:maj7', 'A#:maj7', 'A#:maj7', 'A#:maj7', 'A#:maj7', 'A#:maj7', 'A#:maj7', 'A#:maj7', 'A#:maj7', 'A#:maj7', 'A#:maj7', 'A#:maj7', 'A#:maj7']\n"
                    ]
                }
            ],
            "source": [
                "hidden = rnn.initHidden()\n",
                "generation_lenght = 100\n",
                "\n",
                "generated_sequence = [0 for i in range(generation_lenght)]\n",
                "\n",
                "for t in range(generation_lenght):\n",
                "    if t < len(test_sequence):\n",
                "        output, hidden = rnn(test_sequence_tensor[t], hidden)\n",
                "        generated_sequence[t] = test_sequence[t]\n",
                "    else : \n",
                "        last_chord_output = torch.zeros(1, num_chars)\n",
                "        last_chord_output[0, torch.argmax(output).item()]\n",
                "        output, hidden = rnn(last_chord_output, hidden)\n",
                "        generated_sequence[t] = indices_char[torch.argmax(output).item()]\n",
                "\n",
                "        \n",
                "print(generated_sequence)"
            ]
        },
        {
            "cell_type": "markdown",
            "metadata": {},
            "source": [
                "# Test avec une séquence blues plus lente et détaillée\n",
                "\n",
                "ça a pas l'air bien mieux "
            ]
        },
        {
            "cell_type": "code",
            "execution_count": 14,
            "metadata": {},
            "outputs": [],
            "source": [
                "test_sequence = [\"_START_\",\"C:maj\",\"C:maj\",\"F:maj\",\"F:maj\",\"C:maj\",\"C:maj\",\"C:maj\",\"C:maj\",\n",
                "                 \"F:maj\",\"F:maj\",\"F:maj\",\"F:maj\",\"C:maj\",\"C:maj\",\"C:maj\",\"C:maj\",\n",
                "                 \"G:7\",\"G:7\",\"F:maj\",\"F:maj\",\"C:maj\",\"C:maj\",\"F:maj\",\"G:7\"]\n",
                "\n",
                "test_sequence_tensor = torch.zeros(len(test_sequence), 1, num_chars)\n",
                "for t in range(len(test_sequence)):\n",
                "    test_sequence_tensor[t, 0, char_indices[test_sequence[t]]] = 1\n"
            ]
        },
        {
            "cell_type": "code",
            "execution_count": 15,
            "metadata": {},
            "outputs": [
                {
                    "name": "stdout",
                    "output_type": "stream",
                    "text": [
                        "['_START_', 'C:maj', 'C:maj', 'F:maj', 'F:maj', 'C:maj', 'C:maj', 'C:maj', 'C:maj', 'F:maj', 'F:maj', 'F:maj', 'F:maj', 'C:maj', 'C:maj', 'C:maj', 'C:maj', 'G:7', 'G:7', 'F:maj', 'F:maj', 'C:maj', 'C:maj', 'F:maj', 'G:7', 'A#:maj7', 'A#:maj7', 'A#:maj7', 'A#:maj7', 'A#:maj7', 'A#:maj7', 'A#:maj7', 'A#:maj7', 'C:min7', 'A#:maj7', 'A#:maj7', 'A#:maj7', 'A#:maj7', 'A#:maj7', 'A#:maj7', 'A#:maj7', 'C:min7', 'C:min7', 'A#:maj7', 'A#:maj7', 'C:min7', 'A#:maj7', 'A#:maj7', 'C:min7', 'A#:maj7', 'A#:maj7', 'A#:maj7', 'A#:maj7', 'C:min7', 'A#:maj7', 'A#:maj7', 'A#:maj7', 'A#:maj7', 'A#:maj7', 'A#:maj7', 'C:min7', 'A#:maj7', 'A#:maj7', 'A#:maj7', 'A#:maj7', 'A#:maj7', 'C:min7', 'A#:maj7', 'A#:maj7', 'A#:maj7', 'A#:maj7', 'A#:maj7', 'A#:maj7', 'A#:maj7', 'A#:maj7', 'A#:maj7', 'A#:maj7', 'A#:maj7', 'A#:maj7', 'A#:maj7', 'A#:maj7', 'A#:maj7', 'A#:maj7', 'A#:maj7', 'C:min7', 'A#:maj7', 'A#:maj7', 'A#:maj7', 'A#:maj7', 'A#:maj7', 'A#:maj7', 'C:min7', 'A#:maj7', 'A#:maj7', 'A#:maj7', 'A#:maj7', 'A#:maj7', 'A#:maj7', 'C:min7', 'A#:maj7']\n"
                    ]
                }
            ],
            "source": [
                "hidden = rnn.initHidden()\n",
                "generation_lenght = 100\n",
                "\n",
                "generated_sequence = [0 for i in range(generation_lenght)]\n",
                "\n",
                "for t in range(generation_lenght):\n",
                "    if t < len(test_sequence):\n",
                "        output, hidden = rnn(test_sequence_tensor[t], hidden)\n",
                "        generated_sequence[t] = test_sequence[t]\n",
                "    else : \n",
                "        last_chord_output = torch.zeros(1, num_chars)\n",
                "        last_chord_output[0, torch.argmax(output).item()]\n",
                "        output, hidden = rnn(last_chord_output, hidden)\n",
                "        generated_sequence[t] = indices_char[torch.argmax(output).item()]\n",
                "\n",
                "        \n",
                "print(generated_sequence)"
            ]
        },
        {
            "cell_type": "code",
            "execution_count": null,
            "metadata": {},
            "outputs": [],
            "source": []
        }
    ],
    "metadata": {
        "kernelspec": {
            "display_name": "Python 3",
            "language": "python",
            "name": "python3"
        },
        "language_info": {
            "codemirror_mode": {
                "name": "ipython",
                "version": 3
            },
            "file_extension": ".py",
            "mimetype": "text/x-python",
            "name": "python",
            "nbconvert_exporter": "python",
            "pygments_lexer": "ipython3",
            "version": "3.6.5"
        }
    },
    "nbformat": 4,
    "nbformat_minor": 2
}

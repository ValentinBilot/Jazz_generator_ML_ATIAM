{
 "cells": [
  {
   "cell_type": "markdown",
   "metadata": {},
   "source": [
    "# Petite implémentation d'un RNN tout simple pour tester les fonctions d'importation de la Base de données faites par Tristan"
   ]
  },
  {
   "cell_type": "code",
   "execution_count": 62,
   "metadata": {},
   "outputs": [],
   "source": [
    "import torch\n",
    "from random import randint\n",
    "from utilities import chordUtil\n",
    "from utilities import dataImport\n",
    "from utilities.chordUtil import *\n",
    "from utilities.dataImport import *\n",
    "from sklearn.model_selection import train_test_split\n",
    "import os\n",
    "import numpy as np\n",
    "import random\n",
    "import sys\n",
    "import torch.nn as nn\n",
    "import time\n",
    "import math\n",
    "import matplotlib.pyplot as plt\n",
    "import matplotlib.ticker as ticker"
   ]
  },
  {
   "cell_type": "code",
   "execution_count": 63,
   "metadata": {},
   "outputs": [],
   "source": [
    "def timeSince(since):\n",
    "    now = time.time()\n",
    "    s = now - since\n",
    "    m = math.floor(s / 60)\n",
    "    s -= m * 60\n",
    "    return '%dm %ds' % (m, s)"
   ]
  },
  {
   "cell_type": "code",
   "execution_count": 64,
   "metadata": {},
   "outputs": [
    {
     "name": "stdout",
     "output_type": "stream",
     "text": [
      "use_cuda\n",
      "False\n"
     ]
    }
   ],
   "source": [
    "# CUDA for PyTorch\n",
    "use_cuda = torch.cuda.is_available()\n",
    "print(\"use_cuda\")\n",
    "print(use_cuda)\n",
    "device = torch.device(\"cuda:0\" if use_cuda else \"cpu\")"
   ]
  },
  {
   "cell_type": "code",
   "execution_count": 65,
   "metadata": {},
   "outputs": [
    {
     "name": "stdout",
     "output_type": "stream",
     "text": [
      "25\n",
      "{'D:maj': 0, 'G#:maj': 1, 'B:min': 2, 'C#:maj': 3, 'D#:maj': 4, 'A:min': 5, 'G:maj': 6, 'A#:maj': 7, 'C#:min': 8, 'A#:min': 9, 'G#:min': 10, 'D:min': 11, 'F#:min': 12, 'B:maj': 13, 'F:maj': 14, 'E:min': 15, 'D#:min': 16, 'N': 17, 'C:min': 18, 'E:maj': 19, 'G:min': 20, 'A:maj': 21, 'C:maj': 22, 'F:min': 23, 'F#:maj': 24}\n"
     ]
    }
   ],
   "source": [
    "# Init\n",
    "lenSeq = 16\n",
    "alpha = 'a0'\n",
    "rootname = \"inputs/jazz_xlab/\"\n",
    "filenames = os.listdir(rootname)\n",
    "#filenames.remove(\".DS_Store\")\n",
    "dictChord, listChord = chordUtil.getDictChord(eval(alpha))\n",
    "print(len(dictChord))\n",
    "print(dictChord)"
   ]
  },
  {
   "cell_type": "code",
   "execution_count": 66,
   "metadata": {},
   "outputs": [],
   "source": [
    "# Create datasets\n",
    "files_train ,files_test = train_test_split(filenames,test_size=0.7)\n",
    "dataset_train = dataImport.ChordSeqDataset(files_train, rootname, alpha, dictChord, lenSeq)\n",
    "dataset_test = dataImport.ChordSeqDataset(files_test, rootname, alpha, dictChord, lenSeq)\n"
   ]
  },
  {
   "cell_type": "code",
   "execution_count": 67,
   "metadata": {},
   "outputs": [],
   "source": [
    "# Create generators\n",
    "params = {'batch_size': 64,\n",
    "          'shuffle': True,\n",
    "          'num_workers': 6}\n",
    "training_generator = data.DataLoader(dataset_train, **params)\n",
    "testing_generator = data.DataLoader(dataset_test, **params)\n"
   ]
  },
  {
   "cell_type": "code",
   "execution_count": 78,
   "metadata": {},
   "outputs": [],
   "source": [
    "class RNN(nn.Module):\n",
    "    def __init__(self, input_size, hidden_size, output_size):\n",
    "        super(RNN, self).__init__()\n",
    "        self.hidden_size = hidden_size\n",
    "        self.i2h = nn.Linear(input_size + hidden_size, hidden_size)\n",
    "        self.i2o = nn.Linear(input_size + hidden_size, output_size)\n",
    "        self.o2o = nn.Linear(hidden_size + output_size, output_size)\n",
    "        self.dropout = nn.Dropout(0.1)\n",
    "        self.softmax = nn.LogSoftmax(dim=0)\n",
    "\n",
    "    def forward(self, input, hidden):\n",
    "        input_combined = torch.cat((input, hidden), 0)\n",
    "        hidden = self.i2h(input_combined)\n",
    "        output = self.i2o(input_combined)\n",
    "        output_combined = torch.cat((hidden, output), 0)\n",
    "        output = self.o2o(output_combined)\n",
    "        output = self.dropout(output)\n",
    "        output = self.softmax(output)\n",
    "        return output, hidden\n",
    "\n",
    "    def initHidden(self):\n",
    "        return torch.zeros(self.hidden_size)"
   ]
  },
  {
   "cell_type": "code",
   "execution_count": 79,
   "metadata": {},
   "outputs": [],
   "source": [
    "def train(local_batch, local_labels):\n",
    "    hidden = rnn.initHidden()\n",
    "\n",
    "    rnn.zero_grad()\n",
    "\n",
    "    loss = 0\n",
    "    #print(local_batch[0])\n",
    "    #print(local_batch.size())\n",
    "    #print(local_labels[0])\n",
    "    #print(local_labels.size())\n",
    "    # parcourir le mini batch\n",
    "    for i in range(len(local_batch)):\n",
    "        # parcourir la sequence\n",
    "        for j in range(len(local_batch[i])):      \n",
    "            output, hidden = rnn(local_batch[i][j], hidden)\n",
    "            \n",
    "        #print(output)\n",
    "        #print(local_labels[i])\n",
    "        #l = criterion(output, torch.tensor([torch.argmax(local_labels[i])]))\n",
    "        #l = criterion(output, local_labels[i])\n",
    "        l = criterion(torch.reshape(output,(1, len(output))), torch.tensor([torch.argmax(local_labels[i])]))\n",
    "        loss += l\n",
    "\n",
    "    loss.backward()\n",
    "\n",
    "    for p in rnn.parameters():\n",
    "        p.data.add_(-learning_rate, p.grad.data)\n",
    "\n",
    "    return output, loss.item() / len(local_batch)"
   ]
  },
  {
   "cell_type": "code",
   "execution_count": 84,
   "metadata": {},
   "outputs": [
    {
     "name": "stdout",
     "output_type": "stream",
     "text": [
      "0m 23s (5 5%) 2.9609\n",
      "0m 47s (10 10%) 2.7607\n",
      "1m 11s (15 15%) 2.3334\n",
      "1m 33s (20 20%) 2.1966\n",
      "1m 56s (25 25%) 2.3618\n",
      "2m 18s (30 30%) 2.5332\n",
      "2m 41s (35 35%) 2.4609\n",
      "3m 4s (40 40%) 1.9367\n",
      "3m 28s (45 45%) 2.2944\n",
      "3m 52s (50 50%) 1.5979\n",
      "4m 14s (55 55%) 1.9669\n",
      "4m 37s (60 60%) 1.5029\n",
      "5m 0s (65 65%) 1.4604\n",
      "5m 23s (70 70%) 1.9983\n",
      "5m 46s (75 75%) 1.7085\n",
      "6m 8s (80 80%) 1.9492\n",
      "6m 31s (85 85%) 1.5951\n",
      "6m 53s (90 90%) 0.7699\n",
      "7m 17s (95 95%) 2.2077\n"
     ]
    }
   ],
   "source": [
    "rnn = RNN(len(dictChord), 128, len(dictChord))\n",
    "\n",
    "plot_every = 1\n",
    "all_losses = []\n",
    "total_loss = 0 # Reset every plot_every iters\n",
    "start = time.time()\n",
    "criterion = nn.NLLLoss()\n",
    "learning_rate = 0.0005\n",
    "print_every = 5\n",
    "max_epochs = 100\n",
    "\n",
    "\n",
    "# Begin training\n",
    "\n",
    "for epoch in range(1, max_epochs):\n",
    "    # Training\n",
    "    for local_batch, local_labels in training_generator:\n",
    "        # Transfer to GPU\n",
    "        local_batch, local_labels = local_batch.to(device), local_labels.to(device)\n",
    "        \n",
    "        output, loss = train(local_batch, local_labels)\n",
    "        total_loss += loss\n",
    "\n",
    "    if epoch % print_every == 0:\n",
    "        print('%s (%d %d%%) %.4f' % (timeSince(start), epoch, epoch / max_epochs * 100, loss))\n",
    "\n",
    "    if epoch % plot_every == 0:\n",
    "        all_losses.append(total_loss / (plot_every * len(local_batch)))\n",
    "        total_loss = 0\n",
    "        \n",
    "\n",
    "    # Testing\n",
    "    #for local_batch, local_labels in testing_generator:\n",
    "        # Transfer to GPU\n",
    "        #local_batch, local_labels = local_batch.to(device), local_labels.to(device)\n",
    "\n",
    "        # //// Test the model  ////\n"
   ]
  },
  {
   "cell_type": "code",
   "execution_count": 85,
   "metadata": {},
   "outputs": [
    {
     "data": {
      "image/png": "[encoded data removed]",
      "text/plain": [
       "<Figure size 432x288 with 1 Axes>"
      ]
     },
     "metadata": {},
     "output_type": "display_data"
    }
   ],
   "source": [
    "plt.figure()\n",
    "plt.plot(all_losses)\n",
    "plt.show()"
   ]
  },
  {
   "cell_type": "code",
   "execution_count": 86,
   "metadata": {},
   "outputs": [],
   "source": [
    "test_sequence = [\"C:maj\",\"F:maj\",\"C:maj\",\"C:maj\",\"F:maj\",\"F:maj\",\"C:maj\",\"C:maj\",\"G:maj\",\"F:maj\"]\n",
    "\n",
    "test_sequence_tensor = torch.zeros(len(test_sequence), len(dictChord))\n",
    "for t in range(len(test_sequence)):\n",
    "    test_sequence_tensor[t, dictChord[test_sequence[t]]] = 1\n"
   ]
  },
  {
   "cell_type": "code",
   "execution_count": 87,
   "metadata": {},
   "outputs": [
    {
     "name": "stdout",
     "output_type": "stream",
     "text": [
      "['C:maj', 'F:maj', 'C:maj', 'C:maj', 'F:maj', 'F:maj', 'C:maj', 'C:maj']\n",
      "['G:maj', 'F:maj', 'F:maj', 'N', 'N', 'N', 'N', 'N']\n",
      "['C:maj', 'N', 'N', 'N', 'N', 'N', 'N', 'N']\n",
      "['C:maj', 'N', 'N', 'N', 'N', 'N', 'N', 'N']\n",
      "['N', 'N', 'N', 'N', 'N', 'N', 'N', 'C:maj']\n",
      "['N', 'N', 'C:maj', 'N', 'N', 'N', 'N', 'N']\n",
      "['N', 'C:maj', 'N', 'N', 'N', 'N', 'N', 'N']\n",
      "['C:maj', 'N', 'N', 'N', 'N', 'N', 'N', 'N']\n",
      "['N', 'N', 'N', 'N', 'N', 'N', 'N', 'N']\n",
      "['N', 'N', 'N', 'N', 'C:maj', 'N', 'N', 'N']\n",
      "['N', 'N', 'N', 'N', 'N', 'N', 'N', 'N']\n",
      "['N', 'N', 'N', 'N', 'C:maj', 'N', 'C:maj', 'N']\n",
      "['N', 'N', 'N', 'N']\n"
     ]
    }
   ],
   "source": [
    "hidden = rnn.initHidden()\n",
    "generation_lenght = 100\n",
    "\n",
    "generated_sequence = [0 for i in range(generation_lenght)]\n",
    "\n",
    "for t in range(generation_lenght):\n",
    "    if t < len(test_sequence):\n",
    "        output, hidden = rnn(test_sequence_tensor[t], hidden)\n",
    "        generated_sequence[t] = test_sequence[t]\n",
    "    else : \n",
    "        last_chord_output = torch.zeros(len(dictChord))\n",
    "        last_chord_output[torch.argmax(output).item()]\n",
    "        output, hidden = rnn(last_chord_output, hidden)\n",
    "        generated_sequence[t] = listChord[torch.argmax(output).item()]\n",
    "\n",
    "        \n",
    "for i in range(generation_lenght):\n",
    "    if i%8 == 0:\n",
    "        print(generated_sequence[i:i+8])"
   ]
  },
  {
   "cell_type": "code",
   "execution_count": null,
   "metadata": {},
   "outputs": [],
   "source": []
  }
 ],
 "metadata": {
  "kernelspec": {
   "display_name": "Python 3",
   "language": "python",
   "name": "python3"
  },
  "language_info": {
   "codemirror_mode": {
    "name": "ipython",
    "version": 3
   },
   "file_extension": ".py",
   "mimetype": "text/x-python",
   "name": "python",
   "nbconvert_exporter": "python",
   "pygments_lexer": "ipython3",
   "version": "3.6.5"
  }
 },
 "nbformat": 4,
 "nbformat_minor": 2
}
